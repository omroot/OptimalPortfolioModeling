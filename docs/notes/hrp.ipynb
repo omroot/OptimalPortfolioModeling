{
 "cells": [
  {
   "cell_type": "code",
   "execution_count": null,
   "id": "114257d6-0bfd-4064-91ed-4f86d7d52bdc",
   "metadata": {},
   "outputs": [],
   "source": []
  },
  {
   "cell_type": "markdown",
   "id": "ae75a3bc-3df1-445e-87f5-d473a29d6d16",
   "metadata": {},
   "source": [
    "# Hierarchical Risk Parity Portfolio Optimization "
   ]
  },
  {
   "cell_type": "code",
   "execution_count": null,
   "id": "ccef675d-3aaa-42dd-ae86-00655afa240f",
   "metadata": {},
   "outputs": [],
   "source": []
  },
  {
   "cell_type": "code",
   "execution_count": null,
   "id": "c07c60d1-d96e-4cb5-85c5-f126f18e544d",
   "metadata": {},
   "outputs": [],
   "source": []
  },
  {
   "cell_type": "markdown",
   "id": "e9c73904-6372-44f9-9784-7c653ce668a3",
   "metadata": {},
   "source": [
    "### Hierarchical Clustering "
   ]
  },
  {
   "cell_type": "markdown",
   "id": "53987fd2-c516-4c28-84d5-def1dcebf0fa",
   "metadata": {},
   "source": [
    "Perform hierarchical clustering on the correlation matrix of the assets to identify clusters.\n",
    "The clustering can be done using methods like single linkage, complete linkage, or average linkage.\n",
    "The result of hierarchical clustering is a dendrogram, which represents the nested grouping of assets."
   ]
  },
  {
   "cell_type": "code",
   "execution_count": null,
   "id": "2ac09579-cc0e-47b2-b947-d5ef4f1ca02c",
   "metadata": {},
   "outputs": [],
   "source": []
  },
  {
   "cell_type": "markdown",
   "id": "6628b7b1-d292-4eab-806e-f534cae16d4c",
   "metadata": {},
   "source": [
    "### Quasi-diagonalization"
   ]
  },
  {
   "cell_type": "markdown",
   "id": "6c675cc7-1dbc-4347-950d-41ffc742bf06",
   "metadata": {},
   "source": [
    "Since the dendrogram provides an order of assets that reflects their hierarchical clustering, we can extract the leaf nodes' order from the dendrogram, which represents the order in which assets should be processed."
   ]
  },
  {
   "cell_type": "markdown",
   "id": "f32105bb-93ac-4cf2-992e-c824c9840cbf",
   "metadata": {},
   "source": [
    "The goal of quasi-diagonalization is to reorder the covariance (or correlation) matrix such that it approximates a block-diagonal form. This helps in the subsequent steps where assets are split into clusters and weights are allocated."
   ]
  },
  {
   "cell_type": "code",
   "execution_count": null,
   "id": "4661deeb-f27c-4079-a078-93b810459b20",
   "metadata": {},
   "outputs": [],
   "source": []
  },
  {
   "cell_type": "markdown",
   "id": "b488adde-457f-4951-b9a8-df8e7af111c1",
   "metadata": {},
   "source": [
    "\n",
    "### Recursive Bisection Step\n",
    "\n",
    "\n",
    "The Recursive Bisection step in the Hierarchical Risk Parity (HRP) algorithm is crucial for determining the weights of assets in a portfolio. This step involves recursively splitting clusters of assets, calculating variances, and allocating weights based on inverse variance weighting.\n",
    "\n",
    "#### 1. Initialization\n",
    "\n",
    "- Start with the entire set of assets ordered according to the hierarchical clustering.\n",
    "- Initialize the weight of each asset to be equal, and set up a list to manage the clusters to be processed.\n",
    "- Let’s denote the set of assets by $\\mathcal{A}$ and the initial weights by:\n",
    "\n",
    "$$ \\mathbf{w}_0 = 1 $$\n",
    "\n",
    "#### 2. Recursively Split Clusters\n",
    "\n",
    "- Begin with the entire ordered set of assets as one cluster.\n",
    "- Recursively split each cluster into two sub-clusters until each cluster contains only one asset.\n",
    "- For each split, compute the allocation weights between the two sub-clusters based on the inverse variance of the sub-clusters.\n",
    "\n",
    "#### 3. Inverse Variance Weighting\n",
    "\n",
    "- For each cluster, calculate the covariance matrix $\\mathbf{\\Sigma}$ of the assets within the cluster.\n",
    "- Compute the inverse variance for each sub-cluster. The inverse variance is given by the sum of the reciprocals of the variances of the assets within the sub-cluster.\n",
    "\n",
    "#### Cluster Variance Calculation\n",
    "\n",
    "For a given cluster $\\mathcal{C}$, the covariance matrix of the assets in $\\mathcal{C}$ is $\\mathbf{\\Sigma}_{\\mathcal{C}}$. The variance of the cluster is calculated as follows:\n",
    "\n",
    "1. Compute the inverse of the diagonal elements (variances of individual assets):\n",
    "\n",
    "$$ \\mathbf{d}_{\\mathcal{C}} = \\text{diag}(\\mathbf{\\Sigma}_{\\mathcal{C}}) $$\n",
    "\n",
    "$$ \\mathbf{w}_{\\mathcal{C}} = \\frac{1}{\\mathbf{d}_{\\mathcal{C}}} $$\n",
    "\n",
    "2. Normalize the inverse variances:\n",
    "\n",
    "$$ \\mathbf{w}_{\\mathcal{C}} = \\frac{\\mathbf{w}_{\\mathcal{C}}}{\\sum \\mathbf{w}_{\\mathcal{C}}} $$\n",
    "\n",
    "3. Calculate the variance of the cluster:\n",
    "\n",
    "$$ \\sigma_{\\mathcal{C}}^2 = \\mathbf{w}_{\\mathcal{C}}^\\top \\mathbf{\\Sigma}_{\\mathcal{C}} \\mathbf{w}_{\\mathcal{C}} $$\n",
    "\n",
    "#### Recursive Bisection Allocation\n",
    "\n",
    "For a given cluster $\\mathcal{C} $, split it into two sub-clusters $\\mathcal{C}_1 $ and $\\mathcal{C}_2$. Calculate the variance of each sub-cluster $\\sigma_{\\mathcal{C}_1}^2 $ and $ \\sigma_{\\mathcal{C}_2}^2$ using the method above.\n",
    "\n",
    "1. Compute the total variance:\n",
    "\n",
    "$$ \\sigma_{\\mathcal{C}}^2 = \\sigma_{\\mathcal{C}_1}^2 + \\sigma_{\\mathcal{C}_2}^2 $$\n",
    "\n",
    "2. Allocate weights to the sub-clusters based on their inverse variances:\n",
    "\n",
    "$$ w_{\\mathcal{C}_1} = \\frac{1 - \\frac{\\sigma_{\\mathcal{C}_1}^2}{\\sigma_{\\mathcal{C}}^2}}{2} $$\n",
    "\n",
    "$$ w_{\\mathcal{C}_2} = \\frac{1 - \\frac{\\sigma_{\\mathcal{C}_2}^2}{\\sigma_{\\mathcal{C}}^2}}{2} $$\n",
    "\n",
    "3. Adjust the weights of the individual assets in each sub-cluster:\n",
    "\n",
    "$$ \\mathbf{w}_{\\mathcal{C}_1} = \\mathbf{w}_{\\mathcal{C}_1} \\cdot w_{\\mathcal{C}_1} $$\n",
    "\n",
    "$$ \\mathbf{w}_{\\mathcal{C}_2} = \\mathbf{w}_{\\mathcal{C}_2} \\cdot w_{\\mathcal{C}_2} $$\n",
    "\n",
    " \n",
    "\n",
    "The Recursive Bisection step in the HRP algorithm involves recursively splitting clusters of assets, calculating variances, and allocating weights based on inverse variance weighting. This process ensures that the allocation of risk is hierarchical and considers the structure of asset relationships, leading to more stable and diversified portfolios.\n",
    " "
   ]
  },
  {
   "cell_type": "code",
   "execution_count": null,
   "id": "37dcca72-ffd0-4c96-885d-2fceeb26d45e",
   "metadata": {},
   "outputs": [],
   "source": []
  },
  {
   "cell_type": "code",
   "execution_count": null,
   "id": "5785f2ca-efb0-4c81-a3ce-9c4da35bd8f2",
   "metadata": {},
   "outputs": [],
   "source": []
  }
 ],
 "metadata": {
  "kernelspec": {
   "display_name": "Python 3.8 (pytorch)",
   "language": "python",
   "name": "pytorch"
  },
  "language_info": {
   "codemirror_mode": {
    "name": "ipython",
    "version": 3
   },
   "file_extension": ".py",
   "mimetype": "text/x-python",
   "name": "python",
   "nbconvert_exporter": "python",
   "pygments_lexer": "ipython3",
   "version": "3.8.13"
  }
 },
 "nbformat": 4,
 "nbformat_minor": 5
}
