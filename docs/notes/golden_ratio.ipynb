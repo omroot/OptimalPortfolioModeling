{
 "cells": [
  {
   "cell_type": "markdown",
   "id": "14bb5bc3-baec-482d-a68d-1870be200416",
   "metadata": {},
   "source": [
    "# Golden Ratio Method "
   ]
  },
  {
   "cell_type": "code",
   "execution_count": null,
   "id": "d5388a81-6842-426d-9d8e-17698172f985",
   "metadata": {},
   "outputs": [],
   "source": []
  },
  {
   "cell_type": "markdown",
   "id": "9ffbbc62-4f6c-4b0c-9492-7b8332506af2",
   "metadata": {},
   "source": [
    "The Golden Section Method, also known as the Golden Ratio Search, is a numerical optimization technique used to find the maximum or minimum of a unimodal function within a specified interval. Here's a detailed explanation of the method:\n",
    "\n",
    "### Method Overview:\n",
    "1. **Objective:** Find the maximum or minimum of a function $ f(x) $ within a given interval $ [a, b] $.\n",
    "2. **Assumptions:** The function $ f(x) $ is unimodal on the interval $ [a, b] $, meaning it has only one peak (if maximizing) or one trough (if minimizing).\n",
    "3. **Process:** \n",
    "   - Divide the interval \\([a, b]\\) into two smaller intervals using the Golden Ratio, typically $ \\phi = \\frac{\\sqrt{5} - 1}{2} \\approx 0.618 $.\n",
    "   - Evaluate the function at two points within these intervals.\n",
    "   - Narrow down the search interval by comparing function values and updating boundaries based on the Golden Ratio properties.\n",
    "\n",
    "### Steps:\n",
    "1. **Initialization:** Start with initial guesses $ x_1 $ and $ x_2 $ within the interval $[a, b]$, such that $ x_1 < x_2 $.\n",
    "   \n",
    "2. **Iteration:**\n",
    "   - Calculate two new points $ x_3$ and $ x_4$ using the Golden Ratio:\n",
    "     - $ x_3 = a + \\phi(b - a) $\n",
    "     - $ x_4 = b - \\phi(b - a) $\n",
    "   - Evaluate the function $ f(x_3) $ and $ f(x_4) $.\n",
    "   - Update the interval boundaries:\n",
    "     - If $ f(x_3) > f(x_4) $, update $ a = x_3 $.\n",
    "     - If $ f(x_3) < f(x_4) $, update $ b = x_4 $.\n",
    "   - Repeat until the interval $[a, b] $  is sufficiently small or a predefined number of iterations is reached.\n",
    "\n",
    "3. **Termination:** The method converges when the interval $[a, b]$ is sufficiently small, typically defined by a tolerance level.\n",
    "\n",
    "### Characteristics:\n",
    "- **Efficiency:** Converges relatively quickly due to the reduction of the search interval by the Golden Ratio.\n",
    "- **Convergence:** Provides a solution within a specified tolerance, suitable for continuous, unimodal functions.\n",
    "- **Application:** Widely used in optimization problems where the objective function is smooth and has a single peak or trough.\n",
    "\n",
    "### Example:\n",
    "Suppose we want to find the maximum of a function $ f(x) = -x^2 + 4x $ within the interval $[0, 4]$:\n",
    "\n",
    "1. Start with $ a = 0 $ and $ b = 4 $.\n",
    "2. Compute $ x_3 $ and $ x_4 $:\n",
    "   - $ x_3 = 0 + 0.618 \\times (4 - 0) = 2.472 $\n",
    "   - $ x_4 = 4 - 0.618 \\times (4 - 0) = 1.528 $\n",
    "3. Evaluate $ f(x_3) $ and $ f(x_4) $:\n",
    "   - If $ f(x_3) > f(x_4) $, update $ a = x_3 $.\n",
    "   - If $ f(x_3) < f(x_4) $, update $ b = x_4 $.\n",
    "4. Repeat until the interval $[a, b]$ is sufficiently small.\n",
    "\n",
    "The Golden Section Method is effective for finding extrema of unimodal functions and is particularly useful in optimization problems where gradient-based methods are not applicable or efficient."
   ]
  },
  {
   "cell_type": "markdown",
   "id": "a694eca6-f619-4b0b-b72b-96d286087eaa",
   "metadata": {},
   "source": [
    "## References \n",
    "\n",
    "- https://nm.mathforcollege.com/mws/gen/09opt/mws_gen_opt_txt_goldensearch.pdf\n",
    "- https://homepages.math.uic.edu/~jan/mcs471/goldensection.pdf\n",
    "- https://www.amazon.com/Golden-Ratio-Worlds-Astonishing-Number/dp/0767908155"
   ]
  },
  {
   "cell_type": "code",
   "execution_count": null,
   "id": "ab04c907-4123-433b-ae2a-a58e048952da",
   "metadata": {},
   "outputs": [],
   "source": []
  }
 ],
 "metadata": {
  "kernelspec": {
   "display_name": "Python 3 (ipykernel)",
   "language": "python",
   "name": "python3"
  },
  "language_info": {
   "codemirror_mode": {
    "name": "ipython",
    "version": 3
   },
   "file_extension": ".py",
   "mimetype": "text/x-python",
   "name": "python",
   "nbconvert_exporter": "python",
   "pygments_lexer": "ipython3",
   "version": "3.9.12"
  }
 },
 "nbformat": 4,
 "nbformat_minor": 5
}
