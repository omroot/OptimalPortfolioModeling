{
 "cells": [
  {
   "cell_type": "markdown",
   "id": "6799a557-84c5-4355-8e6b-6ac5f608e1cf",
   "metadata": {},
   "source": [
    "# Churn Normalization"
   ]
  },
  {
   "cell_type": "markdown",
   "id": "53f38a54-a1a0-4da5-8339-b07a7028d325",
   "metadata": {},
   "source": [
    "To compare churn rates between monthly-reporting and quarterly-reporting funds, we need to adjust the churn rates to a consistent monthly equivalent. This requires normalizing the churn rate based on the reporting period.\n",
    "\n",
    "The Formula for Monthly-ized Churn Rate\n",
    "$$\n",
    "R_{\\text{monthly}} = 1 - (1 - R)^{\\frac{1}{N}}\n",
    "$$\n",
    "where:\n",
    "- $R$ is the observed churn rate over $N$ months,\n",
    "- $N$ is the number of months in the reporting period,\n",
    "- $R_{\\text{monthly}}$ is the monthly churn rate.\n",
    "\n",
    "which we will prove next."
   ]
  },
  {
   "cell_type": "markdown",
   "id": "a919f385-a189-4484-be46-0741b06ea4b9",
   "metadata": {},
   "source": [
    " \n",
    "\n",
    "The churn rate $ R $ over $ N $ months implies that the retention rate (the proportion of assets retained) over $N $ months is:\n",
    "$$\n",
    "\\text{Retention rate over } N \\text{ months} = 1 - R\n",
    "$$\n",
    "\n",
    "Assuming constant proportional churn, the retention rate over $N$ months is the product of $N$ monthly retention rates. \n",
    "\n",
    "Let the monthly retention rate be $ r_{\\text{monthly}} $. Then:\n",
    "$$\n",
    "(1 - R) = r_{\\text{monthly}}^N\n",
    "$$\n",
    "\n",
    "Solving for $ r_{\\text{monthly}} $, we get:\n",
    "$$\n",
    "r_{\\text{monthly}} = (1 - R)^{\\frac{1}{N}}\n",
    "$$\n",
    "\n",
    "The monthly churn rate $ R_{\\text{monthly}} $ is the complement of the monthly retention rate:\n",
    "$$\n",
    "R_{\\text{monthly}} = 1 - r_{\\text{monthly}}\n",
    "$$\n",
    "\n",
    "Substituting $ r_{\\text{monthly}} $, we have:\n",
    "$$\n",
    "R_{\\text{monthly}} = 1 - (1 - R)^{\\frac{1}{N}}\n",
    "$$\n",
    "\n",
    "\n",
    "\n",
    " \n"
   ]
  },
  {
   "cell_type": "code",
   "execution_count": null,
   "id": "1ec0afce-a256-4748-bd8e-fbb8733eeab1",
   "metadata": {},
   "outputs": [],
   "source": []
  }
 ],
 "metadata": {
  "kernelspec": {
   "display_name": "plutus",
   "language": "python",
   "name": "plutus"
  },
  "language_info": {
   "codemirror_mode": {
    "name": "ipython",
    "version": 3
   },
   "file_extension": ".py",
   "mimetype": "text/x-python",
   "name": "python",
   "nbconvert_exporter": "python",
   "pygments_lexer": "ipython3",
   "version": "3.10.13"
  }
 },
 "nbformat": 4,
 "nbformat_minor": 5
}
