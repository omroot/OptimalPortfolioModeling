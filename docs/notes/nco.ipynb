{
 "cells": [
  {
   "cell_type": "markdown",
   "id": "892affba-0020-47ea-887c-06b846095929",
   "metadata": {},
   "source": [
    "# The Nested Clustering Optimization"
   ]
  },
  {
   "cell_type": "markdown",
   "id": "9b8d9dc0-fda0-4395-8ca9-f584578a83f7",
   "metadata": {},
   "source": [
    "- Let $\\Sigma$ be the covariance matrix $\\in \\mathbb{R}^{N\\times N}$.\n",
    "- Let $\\mu$ be the expected returns vector $\\in \\mathbb{R}^{N\\times 1}$.\n",
    "- Using a clustering algorithm, we group the $N$ securities into $M$ clusters\n",
    "    - for each cluster $1 \\leq m \\leq M $, \n",
    "        - $\\mu_m$: expected returns of the securities in the cluster \n",
    "        - $\\Sigma_m$: the sub-covariance matrix corresponding to the securities in the cluster\n",
    "- Let $\\tilde{W}$ the intra-clusters weight matrix: \n",
    "    - For each cluster, we run mean-variance optimization on $(\\mu_m, \\Sigma_m)$ to estimate the optimal weights $w_m \\in \\mathbb{R}^{N\\times 1}$ where securities outside the cluster $m$ have zero weight \n",
    "     $$\\tilde{W} = [w_1, w_2, \\cdots, w_M ] \\in \\mathbb{R}^{N\\times M}$$\n",
    "\n",
    "- Compute the reduced moments:\n",
    "    - expected returns:\n",
    "        $$ \\tilde{\\mu} = \\tilde{W}^T   \\mu \\in \\mathbb{R}^{M\\times 1} $$\n",
    "    - covariance matrix:\n",
    "        $$ \\tilde{\\Sigma} = \\tilde{W}^T  \\Sigma \\tilde{W} \\in \\mathbb{R}^{M\\times M} $$\n",
    "- Use   mean-variance optimization on $(\\tilde{\\mu},  \\tilde{\\Sigma} )$  to produce cluster level weights:\n",
    "    $$w_c \\in \\mathbb{R}^{M\\times 1}$$\n",
    "- The final security level optimal weights are computed as:\n",
    "    $$ w^{*} =  \\tilde{W}w_c \\in  \\mathbb{R}^{N\\times 1}$$"
   ]
  },
  {
   "cell_type": "code",
   "execution_count": null,
   "id": "701ce5ed-bc6b-4139-982b-f1e1ecb56cc3",
   "metadata": {},
   "outputs": [],
   "source": []
  }
 ],
 "metadata": {
  "kernelspec": {
   "display_name": "Python 3 (ipykernel)",
   "language": "python",
   "name": "python3"
  },
  "language_info": {
   "codemirror_mode": {
    "name": "ipython",
    "version": 3
   },
   "file_extension": ".py",
   "mimetype": "text/x-python",
   "name": "python",
   "nbconvert_exporter": "python",
   "pygments_lexer": "ipython3",
   "version": "3.9.12"
  }
 },
 "nbformat": 4,
 "nbformat_minor": 5
}
