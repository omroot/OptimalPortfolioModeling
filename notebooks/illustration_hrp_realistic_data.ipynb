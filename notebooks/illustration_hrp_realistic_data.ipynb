{
 "cells": [
  {
   "cell_type": "markdown",
   "id": "65e26d2c-5d57-42f8-9425-8ab2300e0c04",
   "metadata": {},
   "source": [
    "# Illustration of HRP "
   ]
  },
  {
   "cell_type": "markdown",
   "id": "e52c30f8-0942-4acc-a77a-dafb60379c9f",
   "metadata": {},
   "source": [
    "## Methodology"
   ]
  },
  {
   "cell_type": "markdown",
   "id": "6b2b015e-4d46-47b2-a068-4665fbffdeb1",
   "metadata": {},
   "source": [
    "\n",
    "\n"
   ]
  },
  {
   "cell_type": "markdown",
   "id": "c2a29778-12f8-4763-b12a-cbf0129e20de",
   "metadata": {},
   "source": [
    "## Imports "
   ]
  },
  {
   "cell_type": "code",
   "execution_count": 1,
   "id": "50cc0bc1-b4ab-46bb-b605-0fb638176b2e",
   "metadata": {},
   "outputs": [],
   "source": [
    "%load_ext autoreload \n",
    "%autoreload 2\n",
    "%matplotlib inline "
   ]
  },
  {
   "cell_type": "code",
   "execution_count": 2,
   "id": "b8160f7c-52c3-4439-b7ce-907d35ab9f60",
   "metadata": {},
   "outputs": [],
   "source": [
    "import warnings\n",
    "warnings.filterwarnings(\"ignore\")"
   ]
  },
  {
   "cell_type": "code",
   "execution_count": 3,
   "id": "f8c2f0f7-92d3-4f3c-99de-cbf506e9a445",
   "metadata": {},
   "outputs": [],
   "source": [
    "import sys\n",
    "sys.path.append('../')"
   ]
  },
  {
   "cell_type": "code",
   "execution_count": 4,
   "id": "9615e08e-1719-43db-8b21-15b51c695766",
   "metadata": {},
   "outputs": [],
   "source": [
    "from typing import List\n",
    "import datetime\n",
    "import tqdm\n",
    "import pandas as pd\n",
    "import numpy as np\n",
    "import pandas_datareader.data as web\n",
    "import yfinance as yf\n"
   ]
  },
  {
   "cell_type": "code",
   "execution_count": 5,
   "id": "cc4df122-d145-4b48-beb1-cec70737e73d",
   "metadata": {},
   "outputs": [],
   "source": [
    "import pandas as pd\n",
    "import numpy as np\n",
    "from scipy.cluster.hierarchy import dendrogram, linkage\n",
    "from matplotlib import pyplot as plt\n",
    "import seaborn as sns"
   ]
  },
  {
   "cell_type": "code",
   "execution_count": 6,
   "id": "9e55af71-8577-4509-9110-5bc04a168a9d",
   "metadata": {},
   "outputs": [],
   "source": [
    "from opm.hrp.ingest import fetch_historical_data_from_yfinance\n",
    "from opm.hrp.cluster import HierarchicalClustering\n",
    "from opm.hrp.recursive_bisection import * \n",
    "from opm.hrp.quasi_diagonalization import *\n",
    "from opm.hrp.utils import *"
   ]
  },
  {
   "cell_type": "markdown",
   "id": "4a9346bc-924b-4cf0-8387-46c277d5c2a6",
   "metadata": {},
   "source": [
    "## Data loading "
   ]
  },
  {
   "cell_type": "code",
   "execution_count": 7,
   "id": "14cb13bd-7509-470c-a133-76a63fab9d31",
   "metadata": {},
   "outputs": [],
   "source": [
    "start = datetime.datetime(2010,1,1)\n",
    "end = datetime.date.today()"
   ]
  },
  {
   "cell_type": "code",
   "execution_count": null,
   "id": "b03716e1-18b8-4255-bddd-99eefa43a343",
   "metadata": {},
   "outputs": [],
   "source": []
  },
  {
   "cell_type": "code",
   "execution_count": 8,
   "id": "9d7d106c-3cf3-418b-a1ea-5e6525a199c2",
   "metadata": {},
   "outputs": [],
   "source": [
    "etf_names = ['AGG', 'BNDX', 'EMB', 'IEFA', 'IEMG', 'ITOT', 'IWN', 'IWS', \n",
    "             'JPST', 'MUB', 'SCHV', 'TFI', 'VBR', 'VEA', 'VOE', 'VTI', 'VTIP', \n",
    "             'VTV', 'VWO']"
   ]
  },
  {
   "cell_type": "code",
   "execution_count": null,
   "id": "fecb72c9-ca28-4505-ac15-fa09bcdd9253",
   "metadata": {},
   "outputs": [],
   "source": []
  },
  {
   "cell_type": "code",
   "execution_count": 9,
   "id": "43fd3b7a-dd2d-459d-b4b0-79449a78d540",
   "metadata": {},
   "outputs": [
    {
     "name": "stdout",
     "output_type": "stream",
     "text": [
      "Downloading AGG\n",
      "[*********************100%%**********************]  1 of 1 completed\n",
      "Downloading BNDX\n",
      "[*********************100%%**********************]  1 of 1 completed\n",
      "Downloading EMB\n",
      "[*********************100%%**********************]  1 of 1 completed\n",
      "Downloading IEFA\n",
      "[*********************100%%**********************]  1 of 1 completed\n",
      "Downloading IEMG\n",
      "[*********************100%%**********************]  1 of 1 completed\n",
      "Downloading ITOT\n",
      "[*********************100%%**********************]  1 of 1 completed\n",
      "Downloading IWN\n",
      "[*********************100%%**********************]  1 of 1 completed\n",
      "Downloading IWS\n",
      "[*********************100%%**********************]  1 of 1 completed\n",
      "Downloading JPST\n",
      "[*********************100%%**********************]  1 of 1 completed\n",
      "Downloading MUB\n",
      "[*********************100%%**********************]  1 of 1 completed\n",
      "Downloading SCHV\n",
      "[*********************100%%**********************]  1 of 1 completed\n",
      "Downloading TFI\n",
      "[*********************100%%**********************]  1 of 1 completed\n",
      "Downloading VBR\n",
      "[*********************100%%**********************]  1 of 1 completed\n",
      "Downloading VEA\n",
      "[*********************100%%**********************]  1 of 1 completed\n",
      "Downloading VOE\n",
      "[*********************100%%**********************]  1 of 1 completed\n",
      "Downloading VTI\n",
      "[*********************100%%**********************]  1 of 1 completed\n",
      "Downloading VTIP\n",
      "[*********************100%%**********************]  1 of 1 completed\n",
      "Downloading VTV\n",
      "[*********************100%%**********************]  1 of 1 completed\n",
      "Downloading VWO\n",
      "[*********************100%%**********************]  1 of 1 completed\n"
     ]
    }
   ],
   "source": [
    "etf_historical_data = fetch_historical_data_from_yfinance(security_names = etf_names,\n",
    "                                                          start_date = start,\n",
    "                                                          end_date = end)"
   ]
  },
  {
   "cell_type": "code",
   "execution_count": 10,
   "id": "94c5f2a2-6643-4f47-a9a5-44e16c317a5e",
   "metadata": {},
   "outputs": [
    {
     "data": {
      "text/html": [
       "<div>\n",
       "<style scoped>\n",
       "    .dataframe tbody tr th:only-of-type {\n",
       "        vertical-align: middle;\n",
       "    }\n",
       "\n",
       "    .dataframe tbody tr th {\n",
       "        vertical-align: top;\n",
       "    }\n",
       "\n",
       "    .dataframe thead th {\n",
       "        text-align: right;\n",
       "    }\n",
       "</style>\n",
       "<table border=\"1\" class=\"dataframe\">\n",
       "  <thead>\n",
       "    <tr style=\"text-align: right;\">\n",
       "      <th></th>\n",
       "      <th>Open</th>\n",
       "      <th>High</th>\n",
       "      <th>Low</th>\n",
       "      <th>Close</th>\n",
       "      <th>Adj Close</th>\n",
       "      <th>Volume</th>\n",
       "      <th>Security</th>\n",
       "      <th>Date</th>\n",
       "    </tr>\n",
       "  </thead>\n",
       "  <tbody>\n",
       "    <tr>\n",
       "      <th>64527</th>\n",
       "      <td>44.029999</td>\n",
       "      <td>44.080002</td>\n",
       "      <td>43.799999</td>\n",
       "      <td>43.860001</td>\n",
       "      <td>43.860001</td>\n",
       "      <td>12952900</td>\n",
       "      <td>VWO</td>\n",
       "      <td>2024-07-01</td>\n",
       "    </tr>\n",
       "    <tr>\n",
       "      <th>64528</th>\n",
       "      <td>43.790001</td>\n",
       "      <td>44.040001</td>\n",
       "      <td>43.750000</td>\n",
       "      <td>44.020000</td>\n",
       "      <td>44.020000</td>\n",
       "      <td>8358400</td>\n",
       "      <td>VWO</td>\n",
       "      <td>2024-07-02</td>\n",
       "    </tr>\n",
       "    <tr>\n",
       "      <th>64529</th>\n",
       "      <td>44.240002</td>\n",
       "      <td>44.680000</td>\n",
       "      <td>44.240002</td>\n",
       "      <td>44.669998</td>\n",
       "      <td>44.669998</td>\n",
       "      <td>7496300</td>\n",
       "      <td>VWO</td>\n",
       "      <td>2024-07-03</td>\n",
       "    </tr>\n",
       "    <tr>\n",
       "      <th>64530</th>\n",
       "      <td>44.669998</td>\n",
       "      <td>44.700001</td>\n",
       "      <td>44.369999</td>\n",
       "      <td>44.660000</td>\n",
       "      <td>44.660000</td>\n",
       "      <td>7304400</td>\n",
       "      <td>VWO</td>\n",
       "      <td>2024-07-05</td>\n",
       "    </tr>\n",
       "    <tr>\n",
       "      <th>64531</th>\n",
       "      <td>44.700001</td>\n",
       "      <td>44.799999</td>\n",
       "      <td>44.610001</td>\n",
       "      <td>44.660000</td>\n",
       "      <td>44.660000</td>\n",
       "      <td>8686800</td>\n",
       "      <td>VWO</td>\n",
       "      <td>2024-07-08</td>\n",
       "    </tr>\n",
       "  </tbody>\n",
       "</table>\n",
       "</div>"
      ],
      "text/plain": [
       "            Open       High        Low      Close  Adj Close    Volume  \\\n",
       "64527  44.029999  44.080002  43.799999  43.860001  43.860001  12952900   \n",
       "64528  43.790001  44.040001  43.750000  44.020000  44.020000   8358400   \n",
       "64529  44.240002  44.680000  44.240002  44.669998  44.669998   7496300   \n",
       "64530  44.669998  44.700001  44.369999  44.660000  44.660000   7304400   \n",
       "64531  44.700001  44.799999  44.610001  44.660000  44.660000   8686800   \n",
       "\n",
       "      Security       Date  \n",
       "64527      VWO 2024-07-01  \n",
       "64528      VWO 2024-07-02  \n",
       "64529      VWO 2024-07-03  \n",
       "64530      VWO 2024-07-05  \n",
       "64531      VWO 2024-07-08  "
      ]
     },
     "execution_count": 10,
     "metadata": {},
     "output_type": "execute_result"
    }
   ],
   "source": [
    "etf_historical_data.tail()"
   ]
  },
  {
   "cell_type": "code",
   "execution_count": 11,
   "id": "18bb671b-22ec-487c-84e3-2076dd91ff81",
   "metadata": {},
   "outputs": [
    {
     "data": {
      "text/html": [
       "<div>\n",
       "<style scoped>\n",
       "    .dataframe tbody tr th:only-of-type {\n",
       "        vertical-align: middle;\n",
       "    }\n",
       "\n",
       "    .dataframe tbody tr th {\n",
       "        vertical-align: top;\n",
       "    }\n",
       "\n",
       "    .dataframe thead th {\n",
       "        text-align: right;\n",
       "    }\n",
       "</style>\n",
       "<table border=\"1\" class=\"dataframe\">\n",
       "  <thead>\n",
       "    <tr style=\"text-align: right;\">\n",
       "      <th></th>\n",
       "      <th>Open</th>\n",
       "      <th>High</th>\n",
       "      <th>Low</th>\n",
       "      <th>Close</th>\n",
       "      <th>Adj Close</th>\n",
       "      <th>Volume</th>\n",
       "      <th>Security</th>\n",
       "      <th>Date</th>\n",
       "    </tr>\n",
       "  </thead>\n",
       "  <tbody>\n",
       "    <tr>\n",
       "      <th>64527</th>\n",
       "      <td>44.029999</td>\n",
       "      <td>44.080002</td>\n",
       "      <td>43.799999</td>\n",
       "      <td>43.860001</td>\n",
       "      <td>43.860001</td>\n",
       "      <td>12952900</td>\n",
       "      <td>VWO</td>\n",
       "      <td>2024-07-01</td>\n",
       "    </tr>\n",
       "    <tr>\n",
       "      <th>64528</th>\n",
       "      <td>43.790001</td>\n",
       "      <td>44.040001</td>\n",
       "      <td>43.750000</td>\n",
       "      <td>44.020000</td>\n",
       "      <td>44.020000</td>\n",
       "      <td>8358400</td>\n",
       "      <td>VWO</td>\n",
       "      <td>2024-07-02</td>\n",
       "    </tr>\n",
       "    <tr>\n",
       "      <th>64529</th>\n",
       "      <td>44.240002</td>\n",
       "      <td>44.680000</td>\n",
       "      <td>44.240002</td>\n",
       "      <td>44.669998</td>\n",
       "      <td>44.669998</td>\n",
       "      <td>7496300</td>\n",
       "      <td>VWO</td>\n",
       "      <td>2024-07-03</td>\n",
       "    </tr>\n",
       "    <tr>\n",
       "      <th>64530</th>\n",
       "      <td>44.669998</td>\n",
       "      <td>44.700001</td>\n",
       "      <td>44.369999</td>\n",
       "      <td>44.660000</td>\n",
       "      <td>44.660000</td>\n",
       "      <td>7304400</td>\n",
       "      <td>VWO</td>\n",
       "      <td>2024-07-05</td>\n",
       "    </tr>\n",
       "    <tr>\n",
       "      <th>64531</th>\n",
       "      <td>44.700001</td>\n",
       "      <td>44.799999</td>\n",
       "      <td>44.610001</td>\n",
       "      <td>44.660000</td>\n",
       "      <td>44.660000</td>\n",
       "      <td>8686800</td>\n",
       "      <td>VWO</td>\n",
       "      <td>2024-07-08</td>\n",
       "    </tr>\n",
       "  </tbody>\n",
       "</table>\n",
       "</div>"
      ],
      "text/plain": [
       "            Open       High        Low      Close  Adj Close    Volume  \\\n",
       "64527  44.029999  44.080002  43.799999  43.860001  43.860001  12952900   \n",
       "64528  43.790001  44.040001  43.750000  44.020000  44.020000   8358400   \n",
       "64529  44.240002  44.680000  44.240002  44.669998  44.669998   7496300   \n",
       "64530  44.669998  44.700001  44.369999  44.660000  44.660000   7304400   \n",
       "64531  44.700001  44.799999  44.610001  44.660000  44.660000   8686800   \n",
       "\n",
       "      Security       Date  \n",
       "64527      VWO 2024-07-01  \n",
       "64528      VWO 2024-07-02  \n",
       "64529      VWO 2024-07-03  \n",
       "64530      VWO 2024-07-05  \n",
       "64531      VWO 2024-07-08  "
      ]
     },
     "execution_count": 11,
     "metadata": {},
     "output_type": "execute_result"
    }
   ],
   "source": [
    "etf_historical_data.tail()"
   ]
  },
  {
   "cell_type": "markdown",
   "id": "21ed7249-4777-4621-993e-d706f5d8099d",
   "metadata": {},
   "source": [
    "## EDA "
   ]
  },
  {
   "cell_type": "code",
   "execution_count": 12,
   "id": "694baec5-4a77-465d-b696-9ff2a0ecc30f",
   "metadata": {},
   "outputs": [],
   "source": [
    "etf_historical_data['Date'] = pd.to_datetime(etf_historical_data['Date']).dt.date"
   ]
  },
  {
   "cell_type": "code",
   "execution_count": 13,
   "id": "7cb2a07c-f4f1-491d-914e-65771a67d836",
   "metadata": {},
   "outputs": [],
   "source": [
    "etf_historical_data.sort_values(by = 'Date', ascending=True, inplace = True)"
   ]
  },
  {
   "cell_type": "code",
   "execution_count": 14,
   "id": "5ca8736d-ea6d-4099-9232-8c056df49268",
   "metadata": {},
   "outputs": [],
   "source": [
    "etf_historical_data['prior_1D_return'] = etf_historical_data.groupby('Security')['Adj Close'].pct_change()"
   ]
  },
  {
   "cell_type": "code",
   "execution_count": 15,
   "id": "861e112d-22bd-433c-bfcd-4c56e2a05fcb",
   "metadata": {},
   "outputs": [],
   "source": [
    "prior_1D_returns = etf_historical_data.pivot_table(index='Date', columns = 'Security', values = 'prior_1D_return')"
   ]
  },
  {
   "cell_type": "code",
   "execution_count": 16,
   "id": "4ca37104-9fe6-480c-b9e1-2727e0530205",
   "metadata": {},
   "outputs": [
    {
     "data": {
      "text/html": [
       "<div>\n",
       "<style scoped>\n",
       "    .dataframe tbody tr th:only-of-type {\n",
       "        vertical-align: middle;\n",
       "    }\n",
       "\n",
       "    .dataframe tbody tr th {\n",
       "        vertical-align: top;\n",
       "    }\n",
       "\n",
       "    .dataframe thead th {\n",
       "        text-align: right;\n",
       "    }\n",
       "</style>\n",
       "<table border=\"1\" class=\"dataframe\">\n",
       "  <thead>\n",
       "    <tr style=\"text-align: right;\">\n",
       "      <th>Security</th>\n",
       "      <th>AGG</th>\n",
       "      <th>BNDX</th>\n",
       "      <th>EMB</th>\n",
       "      <th>IEFA</th>\n",
       "      <th>IEMG</th>\n",
       "      <th>ITOT</th>\n",
       "      <th>IWN</th>\n",
       "      <th>IWS</th>\n",
       "      <th>JPST</th>\n",
       "      <th>MUB</th>\n",
       "      <th>SCHV</th>\n",
       "      <th>TFI</th>\n",
       "      <th>VBR</th>\n",
       "      <th>VEA</th>\n",
       "      <th>VOE</th>\n",
       "      <th>VTI</th>\n",
       "      <th>VTIP</th>\n",
       "      <th>VTV</th>\n",
       "      <th>VWO</th>\n",
       "    </tr>\n",
       "    <tr>\n",
       "      <th>Date</th>\n",
       "      <th></th>\n",
       "      <th></th>\n",
       "      <th></th>\n",
       "      <th></th>\n",
       "      <th></th>\n",
       "      <th></th>\n",
       "      <th></th>\n",
       "      <th></th>\n",
       "      <th></th>\n",
       "      <th></th>\n",
       "      <th></th>\n",
       "      <th></th>\n",
       "      <th></th>\n",
       "      <th></th>\n",
       "      <th></th>\n",
       "      <th></th>\n",
       "      <th></th>\n",
       "      <th></th>\n",
       "      <th></th>\n",
       "    </tr>\n",
       "  </thead>\n",
       "  <tbody>\n",
       "    <tr>\n",
       "      <th>2010-01-05</th>\n",
       "      <td>0.004549</td>\n",
       "      <td>NaN</td>\n",
       "      <td>0.006082</td>\n",
       "      <td>NaN</td>\n",
       "      <td>NaN</td>\n",
       "      <td>0.003140</td>\n",
       "      <td>-0.003693</td>\n",
       "      <td>0.008258</td>\n",
       "      <td>NaN</td>\n",
       "      <td>0.001068</td>\n",
       "      <td>0.004298</td>\n",
       "      <td>0.002654</td>\n",
       "      <td>-0.001081</td>\n",
       "      <td>0.000569</td>\n",
       "      <td>0.003109</td>\n",
       "      <td>0.003839</td>\n",
       "      <td>NaN</td>\n",
       "      <td>0.003296</td>\n",
       "      <td>0.003302</td>\n",
       "    </tr>\n",
       "    <tr>\n",
       "      <th>2010-01-06</th>\n",
       "      <td>-0.000578</td>\n",
       "      <td>NaN</td>\n",
       "      <td>0.001366</td>\n",
       "      <td>NaN</td>\n",
       "      <td>NaN</td>\n",
       "      <td>0.001370</td>\n",
       "      <td>-0.002022</td>\n",
       "      <td>0.003699</td>\n",
       "      <td>NaN</td>\n",
       "      <td>-0.001456</td>\n",
       "      <td>0.003113</td>\n",
       "      <td>0.001323</td>\n",
       "      <td>0.001623</td>\n",
       "      <td>0.000285</td>\n",
       "      <td>0.007086</td>\n",
       "      <td>0.001390</td>\n",
       "      <td>NaN</td>\n",
       "      <td>0.003284</td>\n",
       "      <td>0.006112</td>\n",
       "    </tr>\n",
       "    <tr>\n",
       "      <th>2010-01-07</th>\n",
       "      <td>-0.001157</td>\n",
       "      <td>NaN</td>\n",
       "      <td>-0.005161</td>\n",
       "      <td>NaN</td>\n",
       "      <td>NaN</td>\n",
       "      <td>0.003517</td>\n",
       "      <td>0.011818</td>\n",
       "      <td>0.007107</td>\n",
       "      <td>NaN</td>\n",
       "      <td>0.001167</td>\n",
       "      <td>0.005430</td>\n",
       "      <td>0.000441</td>\n",
       "      <td>0.008821</td>\n",
       "      <td>-0.001991</td>\n",
       "      <td>0.007256</td>\n",
       "      <td>0.004166</td>\n",
       "      <td>NaN</td>\n",
       "      <td>0.005525</td>\n",
       "      <td>-0.008645</td>\n",
       "    </tr>\n",
       "    <tr>\n",
       "      <th>2010-01-08</th>\n",
       "      <td>0.000579</td>\n",
       "      <td>NaN</td>\n",
       "      <td>0.001174</td>\n",
       "      <td>NaN</td>\n",
       "      <td>NaN</td>\n",
       "      <td>0.003699</td>\n",
       "      <td>0.005506</td>\n",
       "      <td>0.004705</td>\n",
       "      <td>NaN</td>\n",
       "      <td>0.000194</td>\n",
       "      <td>-0.000772</td>\n",
       "      <td>0.000440</td>\n",
       "      <td>0.003569</td>\n",
       "      <td>0.010832</td>\n",
       "      <td>0.003274</td>\n",
       "      <td>0.003284</td>\n",
       "      <td>NaN</td>\n",
       "      <td>0.001018</td>\n",
       "      <td>0.006128</td>\n",
       "    </tr>\n",
       "    <tr>\n",
       "      <th>2010-01-11</th>\n",
       "      <td>-0.000773</td>\n",
       "      <td>NaN</td>\n",
       "      <td>0.007626</td>\n",
       "      <td>NaN</td>\n",
       "      <td>NaN</td>\n",
       "      <td>0.000776</td>\n",
       "      <td>-0.005642</td>\n",
       "      <td>0.000780</td>\n",
       "      <td>NaN</td>\n",
       "      <td>0.000000</td>\n",
       "      <td>0.005019</td>\n",
       "      <td>0.000440</td>\n",
       "      <td>-0.000534</td>\n",
       "      <td>0.006204</td>\n",
       "      <td>0.000870</td>\n",
       "      <td>0.001378</td>\n",
       "      <td>NaN</td>\n",
       "      <td>0.004269</td>\n",
       "      <td>0.001406</td>\n",
       "    </tr>\n",
       "    <tr>\n",
       "      <th>...</th>\n",
       "      <td>...</td>\n",
       "      <td>...</td>\n",
       "      <td>...</td>\n",
       "      <td>...</td>\n",
       "      <td>...</td>\n",
       "      <td>...</td>\n",
       "      <td>...</td>\n",
       "      <td>...</td>\n",
       "      <td>...</td>\n",
       "      <td>...</td>\n",
       "      <td>...</td>\n",
       "      <td>...</td>\n",
       "      <td>...</td>\n",
       "      <td>...</td>\n",
       "      <td>...</td>\n",
       "      <td>...</td>\n",
       "      <td>...</td>\n",
       "      <td>...</td>\n",
       "      <td>...</td>\n",
       "    </tr>\n",
       "    <tr>\n",
       "      <th>2024-07-01</th>\n",
       "      <td>-0.005363</td>\n",
       "      <td>-0.003232</td>\n",
       "      <td>-0.003961</td>\n",
       "      <td>0.001377</td>\n",
       "      <td>0.002055</td>\n",
       "      <td>0.001431</td>\n",
       "      <td>-0.008995</td>\n",
       "      <td>-0.010022</td>\n",
       "      <td>-0.000100</td>\n",
       "      <td>-0.001505</td>\n",
       "      <td>-0.004995</td>\n",
       "      <td>-0.000767</td>\n",
       "      <td>-0.010684</td>\n",
       "      <td>0.000809</td>\n",
       "      <td>-0.009373</td>\n",
       "      <td>0.002019</td>\n",
       "      <td>-0.000748</td>\n",
       "      <td>-0.004114</td>\n",
       "      <td>0.002285</td>\n",
       "    </tr>\n",
       "    <tr>\n",
       "      <th>2024-07-02</th>\n",
       "      <td>0.003325</td>\n",
       "      <td>0.002065</td>\n",
       "      <td>0.004900</td>\n",
       "      <td>0.002475</td>\n",
       "      <td>0.002796</td>\n",
       "      <td>0.006221</td>\n",
       "      <td>0.003909</td>\n",
       "      <td>0.003346</td>\n",
       "      <td>0.000597</td>\n",
       "      <td>0.002827</td>\n",
       "      <td>0.003663</td>\n",
       "      <td>0.001974</td>\n",
       "      <td>0.005316</td>\n",
       "      <td>0.002224</td>\n",
       "      <td>0.003221</td>\n",
       "      <td>0.005783</td>\n",
       "      <td>0.000624</td>\n",
       "      <td>0.003756</td>\n",
       "      <td>0.003648</td>\n",
       "    </tr>\n",
       "    <tr>\n",
       "      <th>2024-07-03</th>\n",
       "      <td>0.005385</td>\n",
       "      <td>0.002885</td>\n",
       "      <td>0.007825</td>\n",
       "      <td>0.011794</td>\n",
       "      <td>0.013757</td>\n",
       "      <td>0.002924</td>\n",
       "      <td>-0.000396</td>\n",
       "      <td>0.001001</td>\n",
       "      <td>0.000398</td>\n",
       "      <td>0.002631</td>\n",
       "      <td>0.000270</td>\n",
       "      <td>0.002845</td>\n",
       "      <td>0.000275</td>\n",
       "      <td>0.011902</td>\n",
       "      <td>-0.000067</td>\n",
       "      <td>0.004117</td>\n",
       "      <td>0.000832</td>\n",
       "      <td>0.000748</td>\n",
       "      <td>0.014766</td>\n",
       "    </tr>\n",
       "    <tr>\n",
       "      <th>2024-07-05</th>\n",
       "      <td>0.005047</td>\n",
       "      <td>0.002055</td>\n",
       "      <td>0.006526</td>\n",
       "      <td>0.006506</td>\n",
       "      <td>0.004768</td>\n",
       "      <td>0.006415</td>\n",
       "      <td>-0.009309</td>\n",
       "      <td>-0.004415</td>\n",
       "      <td>0.000596</td>\n",
       "      <td>0.002437</td>\n",
       "      <td>-0.000541</td>\n",
       "      <td>0.001746</td>\n",
       "      <td>-0.008756</td>\n",
       "      <td>0.006380</td>\n",
       "      <td>-0.003010</td>\n",
       "      <td>0.005209</td>\n",
       "      <td>0.002493</td>\n",
       "      <td>-0.000872</td>\n",
       "      <td>-0.000224</td>\n",
       "    </tr>\n",
       "    <tr>\n",
       "      <th>2024-07-08</th>\n",
       "      <td>0.000307</td>\n",
       "      <td>0.000410</td>\n",
       "      <td>-0.000224</td>\n",
       "      <td>-0.004848</td>\n",
       "      <td>0.000182</td>\n",
       "      <td>0.001076</td>\n",
       "      <td>0.007331</td>\n",
       "      <td>0.002845</td>\n",
       "      <td>0.000397</td>\n",
       "      <td>0.000561</td>\n",
       "      <td>0.000811</td>\n",
       "      <td>0.000000</td>\n",
       "      <td>0.004389</td>\n",
       "      <td>-0.004358</td>\n",
       "      <td>0.004160</td>\n",
       "      <td>0.001360</td>\n",
       "      <td>-0.000207</td>\n",
       "      <td>0.001435</td>\n",
       "      <td>0.000000</td>\n",
       "    </tr>\n",
       "  </tbody>\n",
       "</table>\n",
       "<p>3650 rows × 19 columns</p>\n",
       "</div>"
      ],
      "text/plain": [
       "Security         AGG      BNDX       EMB      IEFA      IEMG      ITOT  \\\n",
       "Date                                                                     \n",
       "2010-01-05  0.004549       NaN  0.006082       NaN       NaN  0.003140   \n",
       "2010-01-06 -0.000578       NaN  0.001366       NaN       NaN  0.001370   \n",
       "2010-01-07 -0.001157       NaN -0.005161       NaN       NaN  0.003517   \n",
       "2010-01-08  0.000579       NaN  0.001174       NaN       NaN  0.003699   \n",
       "2010-01-11 -0.000773       NaN  0.007626       NaN       NaN  0.000776   \n",
       "...              ...       ...       ...       ...       ...       ...   \n",
       "2024-07-01 -0.005363 -0.003232 -0.003961  0.001377  0.002055  0.001431   \n",
       "2024-07-02  0.003325  0.002065  0.004900  0.002475  0.002796  0.006221   \n",
       "2024-07-03  0.005385  0.002885  0.007825  0.011794  0.013757  0.002924   \n",
       "2024-07-05  0.005047  0.002055  0.006526  0.006506  0.004768  0.006415   \n",
       "2024-07-08  0.000307  0.000410 -0.000224 -0.004848  0.000182  0.001076   \n",
       "\n",
       "Security         IWN       IWS      JPST       MUB      SCHV       TFI  \\\n",
       "Date                                                                     \n",
       "2010-01-05 -0.003693  0.008258       NaN  0.001068  0.004298  0.002654   \n",
       "2010-01-06 -0.002022  0.003699       NaN -0.001456  0.003113  0.001323   \n",
       "2010-01-07  0.011818  0.007107       NaN  0.001167  0.005430  0.000441   \n",
       "2010-01-08  0.005506  0.004705       NaN  0.000194 -0.000772  0.000440   \n",
       "2010-01-11 -0.005642  0.000780       NaN  0.000000  0.005019  0.000440   \n",
       "...              ...       ...       ...       ...       ...       ...   \n",
       "2024-07-01 -0.008995 -0.010022 -0.000100 -0.001505 -0.004995 -0.000767   \n",
       "2024-07-02  0.003909  0.003346  0.000597  0.002827  0.003663  0.001974   \n",
       "2024-07-03 -0.000396  0.001001  0.000398  0.002631  0.000270  0.002845   \n",
       "2024-07-05 -0.009309 -0.004415  0.000596  0.002437 -0.000541  0.001746   \n",
       "2024-07-08  0.007331  0.002845  0.000397  0.000561  0.000811  0.000000   \n",
       "\n",
       "Security         VBR       VEA       VOE       VTI      VTIP       VTV  \\\n",
       "Date                                                                     \n",
       "2010-01-05 -0.001081  0.000569  0.003109  0.003839       NaN  0.003296   \n",
       "2010-01-06  0.001623  0.000285  0.007086  0.001390       NaN  0.003284   \n",
       "2010-01-07  0.008821 -0.001991  0.007256  0.004166       NaN  0.005525   \n",
       "2010-01-08  0.003569  0.010832  0.003274  0.003284       NaN  0.001018   \n",
       "2010-01-11 -0.000534  0.006204  0.000870  0.001378       NaN  0.004269   \n",
       "...              ...       ...       ...       ...       ...       ...   \n",
       "2024-07-01 -0.010684  0.000809 -0.009373  0.002019 -0.000748 -0.004114   \n",
       "2024-07-02  0.005316  0.002224  0.003221  0.005783  0.000624  0.003756   \n",
       "2024-07-03  0.000275  0.011902 -0.000067  0.004117  0.000832  0.000748   \n",
       "2024-07-05 -0.008756  0.006380 -0.003010  0.005209  0.002493 -0.000872   \n",
       "2024-07-08  0.004389 -0.004358  0.004160  0.001360 -0.000207  0.001435   \n",
       "\n",
       "Security         VWO  \n",
       "Date                  \n",
       "2010-01-05  0.003302  \n",
       "2010-01-06  0.006112  \n",
       "2010-01-07 -0.008645  \n",
       "2010-01-08  0.006128  \n",
       "2010-01-11  0.001406  \n",
       "...              ...  \n",
       "2024-07-01  0.002285  \n",
       "2024-07-02  0.003648  \n",
       "2024-07-03  0.014766  \n",
       "2024-07-05 -0.000224  \n",
       "2024-07-08  0.000000  \n",
       "\n",
       "[3650 rows x 19 columns]"
      ]
     },
     "execution_count": 16,
     "metadata": {},
     "output_type": "execute_result"
    }
   ],
   "source": [
    "prior_1D_returns"
   ]
  },
  {
   "cell_type": "code",
   "execution_count": 17,
   "id": "8ef16d24-ecea-42b5-8ded-d834dd5c11a7",
   "metadata": {},
   "outputs": [
    {
     "data": {
      "image/png": "[encoded data removed]",
      "text/plain": [
       "<Figure size 432x288 with 2 Axes>"
      ]
     },
     "metadata": {
      "needs_background": "light"
     },
     "output_type": "display_data"
    }
   ],
   "source": [
    "corr = prior_1D_returns.corr()\n",
    "#Vislualization purposes\n",
    "ax = sns.heatmap(corr, cmap=\"coolwarm\")"
   ]
  },
  {
   "cell_type": "markdown",
   "id": "25bf4879-596f-4fb8-8398-efd8f9517953",
   "metadata": {},
   "source": [
    "## Hierarchical Clustering "
   ]
  },
  {
   "cell_type": "code",
   "execution_count": 18,
   "id": "adffd55d-3d73-456e-8d74-f3324a83319b",
   "metadata": {},
   "outputs": [],
   "source": [
    "hierarchical_clustering_model = HierarchicalClustering(is_similarity_matrix=True)"
   ]
  },
  {
   "cell_type": "code",
   "execution_count": 19,
   "id": "0c665f24-d9d1-4933-a609-507eb15719b0",
   "metadata": {},
   "outputs": [],
   "source": [
    "hierarchical_clustering_model.fit(corr)"
   ]
  },
  {
   "cell_type": "code",
   "execution_count": 20,
   "id": "fd5d7787-4e16-4e13-91a6-e96d550eb36e",
   "metadata": {},
   "outputs": [
    {
     "data": {
      "image/png": "[encoded data removed]",
      "text/plain": [
       "<Figure size 1800x720 with 1 Axes>"
      ]
     },
     "metadata": {
      "needs_background": "light"
     },
     "output_type": "display_data"
    }
   ],
   "source": [
    "hierarchical_clustering_model.plot_dendrogram()"
   ]
  },
  {
   "cell_type": "code",
   "execution_count": null,
   "id": "d845e95a-1721-4525-9985-e62274217695",
   "metadata": {},
   "outputs": [],
   "source": []
  },
  {
   "cell_type": "code",
   "execution_count": 21,
   "id": "fb53e534-cd87-4c23-b921-999d3a55faa0",
   "metadata": {},
   "outputs": [],
   "source": [
    "link = hierarchical_clustering_model.linkage_matrix\n"
   ]
  },
  {
   "cell_type": "code",
   "execution_count": null,
   "id": "e8e4c542-8e18-41b1-9c66-7c898a03e74d",
   "metadata": {},
   "outputs": [],
   "source": []
  },
  {
   "cell_type": "markdown",
   "id": "2a34c8fb-8460-4488-aa2c-be5bbeefc5cd",
   "metadata": {},
   "source": [
    "## Quasi-diagonalization "
   ]
  },
  {
   "cell_type": "code",
   "execution_count": 22,
   "id": "8104a074-c030-4ca1-8b92-1ace983976b2",
   "metadata": {},
   "outputs": [
    {
     "data": {
      "image/png": "[encoded data removed]",
      "text/plain": [
       "<Figure size 432x288 with 2 Axes>"
      ]
     },
     "metadata": {
      "needs_background": "light"
     },
     "output_type": "display_data"
    }
   ],
   "source": [
    "sort_ix = quasi_diagonalize_linkage(link)\n",
    "etf_names = np.array(etf_names)\n",
    "df_vis = prior_1D_returns[etf_names[sort_ix]]\n",
    "corr2 = df_vis.corr()\n",
    "ax = sns.heatmap(corr2, cmap=\"coolwarm\")"
   ]
  },
  {
   "cell_type": "markdown",
   "id": "eb2fe967-c85d-440b-be73-de41a69e6bca",
   "metadata": {},
   "source": [
    "## Recursive bi-section"
   ]
  },
  {
   "cell_type": "code",
   "execution_count": 23,
   "id": "c41a533a-a25d-4b2c-a1a5-a89b2308cd76",
   "metadata": {},
   "outputs": [],
   "source": [
    "cluster_items =  [[3, 6, 0, 9, 2, 4, 13, 5, 12, 8, 10, 7, 1, 11]]"
   ]
  },
  {
   "cell_type": "code",
   "execution_count": 24,
   "id": "d2d62dbf-390a-4891-bfc0-4cb856a59222",
   "metadata": {},
   "outputs": [
    {
     "name": "stdout",
     "output_type": "stream",
     "text": [
      "[[3, 6, 0, 9, 2, 4, 13, 5, 12, 8, 10, 7, 1, 11]]\n",
      "[[3, 6, 0, 9, 2, 4, 13], [5, 12, 8, 10, 7, 1, 11]]\n",
      "[[3, 6, 0], [9, 2, 4, 13], [5, 12, 8], [10, 7, 1, 11]]\n",
      "[[3], [6, 0], [9, 2], [4, 13], [5], [12, 8], [10, 7], [1, 11]]\n",
      "[[6], [0], [9], [2], [4], [13], [12], [8], [10], [7], [1], [11]]\n"
     ]
    }
   ],
   "source": [
    "while len(cluster_items) > 0:\n",
    "    # bisection\n",
    "    \"\"\"\n",
    "    Example of bisection: \n",
    "    [[3, 6, 0, 9, 2, 4, 13], [5, 12, 8, 10, 7, 1, 11]]\n",
    "    [[3, 6, 0], [9, 2, 4, 13], [5, 12, 8], [10, 7, 1, 11]]\n",
    "    [[3], [6, 0], [9, 2], [4, 13], [5], [12, 8], [10, 7], [1, 11]]\n",
    "    [[6], [0], [9], [2], [4], [13], [12], [8], [10], [7], [1], [11]]\n",
    "    \"\"\"\n",
    "    print(cluster_items)\n",
    "    cluster_items = [i[int(j):int(k)] for i in cluster_items for j, k in\n",
    "               ((0, len(i) / 2), (len(i) / 2, len(i))) if len(i) > 1]"
   ]
  },
  {
   "cell_type": "code",
   "execution_count": null,
   "id": "4ac0f85a-ab76-4d66-be1e-fbb9bafdd020",
   "metadata": {},
   "outputs": [],
   "source": []
  },
  {
   "cell_type": "code",
   "execution_count": 25,
   "id": "d9fb1a11-6ecf-483e-a0a9-39ae19ff54c7",
   "metadata": {},
   "outputs": [],
   "source": [
    "weights_HRP = compute_recursive_bisection_weights(corr, sort_ix)\n",
    "new_index = [prior_1D_returns.columns[i] for i in weights_HRP.index]\n",
    "weights_HRP.index = new_index\n",
    "weights_HRP.name = \"HRP\""
   ]
  },
  {
   "cell_type": "code",
   "execution_count": 26,
   "id": "7761d163-a4d1-4d5e-a90b-7914a7128023",
   "metadata": {},
   "outputs": [
    {
     "data": {
      "text/plain": [
       "IEMG    0.042641\n",
       "VWO     0.042641\n",
       "IEFA    0.042558\n",
       "VEA     0.042558\n",
       "ITOT    0.040598\n",
       "VTI     0.040598\n",
       "IWN     0.041524\n",
       "VBR     0.021537\n",
       "SCHV    0.021537\n",
       "VTV     0.060847\n",
       "IWS     0.060847\n",
       "VOE     0.082178\n",
       "EMB     0.061154\n",
       "JPST    0.061154\n",
       "VTIP    0.084044\n",
       "MUB     0.084044\n",
       "TFI     0.078737\n",
       "AGG     0.045402\n",
       "BNDX    0.045402\n",
       "Name: HRP, dtype: float64"
      ]
     },
     "execution_count": 26,
     "metadata": {},
     "output_type": "execute_result"
    }
   ],
   "source": [
    "weights_HRP"
   ]
  },
  {
   "cell_type": "code",
   "execution_count": null,
   "id": "ad1df4e7-3743-4a8e-a7f7-6fda11b43d09",
   "metadata": {},
   "outputs": [],
   "source": []
  }
 ],
 "metadata": {
  "kernelspec": {
   "display_name": "Python 3.8 (pytorch)",
   "language": "python",
   "name": "pytorch"
  },
  "language_info": {
   "codemirror_mode": {
    "name": "ipython",
    "version": 3
   },
   "file_extension": ".py",
   "mimetype": "text/x-python",
   "name": "python",
   "nbconvert_exporter": "python",
   "pygments_lexer": "ipython3",
   "version": "3.8.13"
  }
 },
 "nbformat": 4,
 "nbformat_minor": 5
}
