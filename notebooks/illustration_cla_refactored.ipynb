{
 "cells": [
  {
   "cell_type": "markdown",
   "id": "65e26d2c-5d57-42f8-9425-8ab2300e0c04",
   "metadata": {},
   "source": [
    "# Illustration of CLA"
   ]
  },
  {
   "cell_type": "markdown",
   "id": "6b2b015e-4d46-47b2-a068-4665fbffdeb1",
   "metadata": {},
   "source": [
    "\n",
    "\n"
   ]
  },
  {
   "cell_type": "markdown",
   "id": "c2a29778-12f8-4763-b12a-cbf0129e20de",
   "metadata": {},
   "source": [
    "## Imports "
   ]
  },
  {
   "cell_type": "code",
   "execution_count": 1,
   "id": "50cc0bc1-b4ab-46bb-b605-0fb638176b2e",
   "metadata": {},
   "outputs": [],
   "source": [
    "%load_ext autoreload \n",
    "%autoreload 2\n",
    "%matplotlib inline "
   ]
  },
  {
   "cell_type": "code",
   "execution_count": 2,
   "id": "b8160f7c-52c3-4439-b7ce-907d35ab9f60",
   "metadata": {},
   "outputs": [],
   "source": [
    "import warnings\n",
    "warnings.filterwarnings(\"ignore\")"
   ]
  },
  {
   "cell_type": "code",
   "execution_count": 3,
   "id": "f8c2f0f7-92d3-4f3c-99de-cbf506e9a445",
   "metadata": {},
   "outputs": [],
   "source": [
    "import sys\n",
    "sys.path.append('../')"
   ]
  },
  {
   "cell_type": "code",
   "execution_count": 4,
   "id": "9615e08e-1719-43db-8b21-15b51c695766",
   "metadata": {},
   "outputs": [],
   "source": [
    "from typing import List\n",
    "import datetime\n",
    "import tqdm\n",
    "import pandas as pd\n",
    "import numpy as np\n",
    "import pandas_datareader.data as web\n",
    "import yfinance as yf\n"
   ]
  },
  {
   "cell_type": "code",
   "execution_count": 5,
   "id": "cc4df122-d145-4b48-beb1-cec70737e73d",
   "metadata": {},
   "outputs": [],
   "source": [
    "import pandas as pd\n",
    "import numpy as np\n",
    "from scipy.cluster.hierarchy import dendrogram, linkage\n",
    "from matplotlib import pyplot as plt\n",
    "import seaborn as sns"
   ]
  },
  {
   "cell_type": "code",
   "execution_count": 6,
   "id": "9e55af71-8577-4509-9110-5bc04a168a9d",
   "metadata": {},
   "outputs": [],
   "source": [
    "from  opm.cla import CriticalLineAlgorithm\n"
   ]
  },
  {
   "cell_type": "code",
   "execution_count": null,
   "id": "88874e6c-144a-44dd-be7f-3b040b6497c2",
   "metadata": {},
   "outputs": [],
   "source": []
  },
  {
   "cell_type": "code",
   "execution_count": null,
   "id": "c9ec865f-1595-4992-9b05-dc5186af8830",
   "metadata": {},
   "outputs": [],
   "source": []
  },
  {
   "cell_type": "code",
   "execution_count": 7,
   "id": "32e2cbbb-cd34-4a2b-8101-7c3ccc31c22c",
   "metadata": {},
   "outputs": [],
   "source": [
    "def plot2D(x,y,xLabel='',yLabel='',title='',pathChart=None):\n",
    "    import matplotlib.pyplot as mpl\n",
    "    fig=mpl.figure()\n",
    "    ax=fig.add_subplot(1,1,1) #one row, one column, first plot\n",
    "    ax.plot(x,y,color='blue')\n",
    "    ax.set_xlabel(xLabel)\n",
    "    ax.set_ylabel(yLabel,rotation=90)\n",
    "    mpl.xticks(rotation='vertical')\n",
    "    mpl.title(title)\n",
    "    if pathChart==None:\n",
    "        mpl.show()\n",
    "    else:\n",
    "        mpl.savefig(pathChart)\n",
    "    mpl.clf() # reset pylab\n",
    "    return"
   ]
  },
  {
   "cell_type": "code",
   "execution_count": null,
   "id": "634fcab3-6e60-4078-a9f2-ca24579fe423",
   "metadata": {},
   "outputs": [],
   "source": []
  },
  {
   "cell_type": "code",
   "execution_count": 8,
   "id": "df8bd530-f196-49d5-941e-7d02189379dc",
   "metadata": {},
   "outputs": [],
   "source": [
    "#1) Path\n",
    "path='CLA_Data.csv'\n",
    "#2) Load data, set seed\n",
    "headers=open(path,'r').readline().split(',')[:-1]\n",
    "data=np.genfromtxt(path,delimiter=',',skip_header=1) # load as numpy array\n",
    "mean=np.array(data[:1]).T\n",
    "lB=np.array(data[1:2]).T\n",
    "uB=np.array(data[2:3]).T\n",
    "covar=np.array(data[3:])\n"
   ]
  },
  {
   "cell_type": "code",
   "execution_count": 9,
   "id": "315cbd92-67de-42b5-9ad0-c457728c784d",
   "metadata": {},
   "outputs": [
    {
     "data": {
      "text/plain": [
       "array([[1.175     , 1.19      , 0.396     , 1.12      , 0.346     ,\n",
       "        0.679     , 0.089     , 0.73      , 0.481     , 1.08      ],\n",
       "       [0.        , 0.        , 0.        , 0.        , 0.        ,\n",
       "        0.        , 0.        , 0.        , 0.        , 0.        ],\n",
       "       [1.        , 1.        , 1.        , 1.        , 1.        ,\n",
       "        1.        , 1.        , 1.        , 1.        , 1.        ],\n",
       "       [0.40755159, 0.03175842, 0.05183923, 0.05663904, 0.0330226 ,\n",
       "        0.00827775, 0.02165938, 0.01332419, 0.0343476 , 0.02249903],\n",
       "       [0.03175842, 0.9063047 , 0.03136385, 0.02687256, 0.01917172,\n",
       "        0.00934384, 0.02495043, 0.00761036, 0.02874874, 0.01336866],\n",
       "       [0.05183923, 0.03136385, 0.19490901, 0.04408485, 0.03006772,\n",
       "        0.01322738, 0.03525971, 0.0115493 , 0.0427563 , 0.02057303],\n",
       "       [0.05663904, 0.02687256, 0.04408485, 0.19528471, 0.02777345,\n",
       "        0.00526665, 0.01375808, 0.00780878, 0.02914176, 0.01640377],\n",
       "       [0.0330226 , 0.01917172, 0.03006772, 0.02777345, 0.34059105,\n",
       "        0.00777055, 0.02067844, 0.00736409, 0.02542657, 0.01284075],\n",
       "       [0.00827775, 0.00934384, 0.01322738, 0.00526665, 0.00777055,\n",
       "        0.15983874, 0.02105575, 0.00518686, 0.01723737, 0.00723779],\n",
       "       [0.02165938, 0.02495043, 0.03525971, 0.01375808, 0.02067844,\n",
       "        0.02105575, 0.68056711, 0.01377882, 0.04627027, 0.01926088],\n",
       "       [0.01332419, 0.00761036, 0.0115493 , 0.00780878, 0.00736409,\n",
       "        0.00518686, 0.01377882, 0.95526918, 0.0106553 , 0.00760955],\n",
       "       [0.0343476 , 0.02874874, 0.0427563 , 0.02914176, 0.02542657,\n",
       "        0.01723737, 0.04627027, 0.0106553 , 0.31681584, 0.01854318],\n",
       "       [0.02249903, 0.01336866, 0.02057303, 0.01640377, 0.01284075,\n",
       "        0.00723779, 0.01926088, 0.00760955, 0.01854318, 0.11079287]])"
      ]
     },
     "execution_count": 9,
     "metadata": {},
     "output_type": "execute_result"
    }
   ],
   "source": [
    "data"
   ]
  },
  {
   "cell_type": "code",
   "execution_count": 10,
   "id": "5c423595-4011-4f28-adc4-5dba8aa5652b",
   "metadata": {},
   "outputs": [
    {
     "data": {
      "text/plain": [
       "array([[1.175],\n",
       "       [1.19 ],\n",
       "       [0.396],\n",
       "       [1.12 ],\n",
       "       [0.346],\n",
       "       [0.679],\n",
       "       [0.089],\n",
       "       [0.73 ],\n",
       "       [0.481],\n",
       "       [1.08 ]])"
      ]
     },
     "execution_count": 10,
     "metadata": {},
     "output_type": "execute_result"
    }
   ],
   "source": [
    "mean"
   ]
  },
  {
   "cell_type": "code",
   "execution_count": 11,
   "id": "1f7ddc4d-f5e9-4519-a1a8-7c3dc1d4e900",
   "metadata": {},
   "outputs": [
    {
     "data": {
      "text/plain": [
       "array([[0.40755159, 0.03175842, 0.05183923, 0.05663904, 0.0330226 ,\n",
       "        0.00827775, 0.02165938, 0.01332419, 0.0343476 , 0.02249903],\n",
       "       [0.03175842, 0.9063047 , 0.03136385, 0.02687256, 0.01917172,\n",
       "        0.00934384, 0.02495043, 0.00761036, 0.02874874, 0.01336866],\n",
       "       [0.05183923, 0.03136385, 0.19490901, 0.04408485, 0.03006772,\n",
       "        0.01322738, 0.03525971, 0.0115493 , 0.0427563 , 0.02057303],\n",
       "       [0.05663904, 0.02687256, 0.04408485, 0.19528471, 0.02777345,\n",
       "        0.00526665, 0.01375808, 0.00780878, 0.02914176, 0.01640377],\n",
       "       [0.0330226 , 0.01917172, 0.03006772, 0.02777345, 0.34059105,\n",
       "        0.00777055, 0.02067844, 0.00736409, 0.02542657, 0.01284075],\n",
       "       [0.00827775, 0.00934384, 0.01322738, 0.00526665, 0.00777055,\n",
       "        0.15983874, 0.02105575, 0.00518686, 0.01723737, 0.00723779],\n",
       "       [0.02165938, 0.02495043, 0.03525971, 0.01375808, 0.02067844,\n",
       "        0.02105575, 0.68056711, 0.01377882, 0.04627027, 0.01926088],\n",
       "       [0.01332419, 0.00761036, 0.0115493 , 0.00780878, 0.00736409,\n",
       "        0.00518686, 0.01377882, 0.95526918, 0.0106553 , 0.00760955],\n",
       "       [0.0343476 , 0.02874874, 0.0427563 , 0.02914176, 0.02542657,\n",
       "        0.01723737, 0.04627027, 0.0106553 , 0.31681584, 0.01854318],\n",
       "       [0.02249903, 0.01336866, 0.02057303, 0.01640377, 0.01284075,\n",
       "        0.00723779, 0.01926088, 0.00760955, 0.01854318, 0.11079287]])"
      ]
     },
     "execution_count": 11,
     "metadata": {},
     "output_type": "execute_result"
    }
   ],
   "source": [
    "covar"
   ]
  },
  {
   "cell_type": "code",
   "execution_count": 12,
   "id": "81189e90-a05d-4ad8-862f-36c086dabc07",
   "metadata": {},
   "outputs": [],
   "source": [
    "#3) Invoke object"
   ]
  },
  {
   "cell_type": "code",
   "execution_count": 13,
   "id": "f115db65-a78f-466e-bfa9-a1128c64d672",
   "metadata": {},
   "outputs": [
    {
     "name": "stdout",
     "output_type": "stream",
     "text": [
      "[array([[0.],\n",
      "       [1.],\n",
      "       [0.],\n",
      "       [0.],\n",
      "       [0.],\n",
      "       [0.],\n",
      "       [0.],\n",
      "       [0.],\n",
      "       [0.],\n",
      "       [0.]]), array([[0.],\n",
      "       [1.],\n",
      "       [0.],\n",
      "       [0.],\n",
      "       [0.],\n",
      "       [0.],\n",
      "       [0.],\n",
      "       [0.],\n",
      "       [0.],\n",
      "       [0.]]), array([[ 6.49369407e-01],\n",
      "       [ 3.50630593e-01],\n",
      "       [ 0.00000000e+00],\n",
      "       [-3.55271368e-15],\n",
      "       [ 0.00000000e+00],\n",
      "       [ 0.00000000e+00],\n",
      "       [ 0.00000000e+00],\n",
      "       [ 0.00000000e+00],\n",
      "       [ 0.00000000e+00],\n",
      "       [ 0.00000000e+00]]), array([[ 4.33984134e-01],\n",
      "       [ 2.31247501e-01],\n",
      "       [ 0.00000000e+00],\n",
      "       [ 3.34768365e-01],\n",
      "       [ 0.00000000e+00],\n",
      "       [ 0.00000000e+00],\n",
      "       [ 0.00000000e+00],\n",
      "       [ 0.00000000e+00],\n",
      "       [ 0.00000000e+00],\n",
      "       [-3.55271368e-15]]), array([[1.26887854e-01],\n",
      "       [7.23433472e-02],\n",
      "       [0.00000000e+00],\n",
      "       [2.81253749e-01],\n",
      "       [0.00000000e+00],\n",
      "       [0.00000000e+00],\n",
      "       [0.00000000e+00],\n",
      "       [2.77555756e-17],\n",
      "       [0.00000000e+00],\n",
      "       [5.19515050e-01]]), array([[1.23201004e-01],\n",
      "       [7.04440713e-02],\n",
      "       [0.00000000e+00],\n",
      "       [2.78993567e-01],\n",
      "       [0.00000000e+00],\n",
      "       [1.11022302e-16],\n",
      "       [0.00000000e+00],\n",
      "       [6.43556436e-03],\n",
      "       [0.00000000e+00],\n",
      "       [5.20925793e-01]]), array([[8.69215493e-02],\n",
      "       [5.04510423e-02],\n",
      "       [0.00000000e+00],\n",
      "       [2.23594017e-01],\n",
      "       [0.00000000e+00],\n",
      "       [1.73831615e-01],\n",
      "       [0.00000000e+00],\n",
      "       [3.01730156e-02],\n",
      "       [1.04083409e-17],\n",
      "       [4.35028760e-01]]), array([[ 8.46709412e-02],\n",
      "       [ 4.92538587e-02],\n",
      "       [ 0.00000000e+00],\n",
      "       [ 2.19633903e-01],\n",
      "       [-1.08420217e-18],\n",
      "       [ 1.80039235e-01],\n",
      "       [ 0.00000000e+00],\n",
      "       [ 3.10298019e-02],\n",
      "       [ 6.48570242e-03],\n",
      "       [ 4.28886558e-01]]), array([[7.37892530e-02],\n",
      "       [4.38286608e-02],\n",
      "       [2.08166817e-17],\n",
      "       [1.98975608e-01],\n",
      "       [2.61581599e-02],\n",
      "       [1.98151872e-01],\n",
      "       [0.00000000e+00],\n",
      "       [3.34195864e-02],\n",
      "       [2.79029660e-02],\n",
      "       [3.97773894e-01]]), array([[6.83440048e-02],\n",
      "       [4.13870268e-02],\n",
      "       [1.52152596e-02],\n",
      "       [1.88134431e-01],\n",
      "       [3.41624860e-02],\n",
      "       [2.02319432e-01],\n",
      "       [5.20417043e-18],\n",
      "       [3.39293236e-02],\n",
      "       [3.36326496e-02],\n",
      "       [3.82875386e-01]]), array([[0.03696858],\n",
      "       [0.02690084],\n",
      "       [0.09494243],\n",
      "       [0.12577595],\n",
      "       [0.07674608],\n",
      "       [0.21935567],\n",
      "       [0.0299871 ],\n",
      "       [0.03596328],\n",
      "       [0.06134984],\n",
      "       [0.29201023]])]\n"
     ]
    }
   ],
   "source": [
    "\n",
    "cla= CriticalLineAlgorithm (  mean = mean,\n",
    "                 covariance = covar,\n",
    "                 lower_bounds = lB,\n",
    "                 upper_bounds = uB)\n",
    "cla.solve()\n",
    "print(cla.weights) # print all turning points"
   ]
  },
  {
   "cell_type": "code",
   "execution_count": 14,
   "id": "ced1774c-998a-4a3f-8d89-2d5ccfba2219",
   "metadata": {},
   "outputs": [
    {
     "data": {
      "image/png": "[encoded data removed]",
      "text/plain": [
       "<Figure size 640x480 with 1 Axes>"
      ]
     },
     "metadata": {},
     "output_type": "display_data"
    },
    {
     "data": {
      "text/plain": [
       "<Figure size 640x480 with 0 Axes>"
      ]
     },
     "metadata": {},
     "output_type": "display_data"
    }
   ],
   "source": [
    "#4) Plot frontier\n",
    "mu,sigma,weights=cla.extract_efficient_frontier(100)\n",
    "plot2D(sigma,mu,'Risk','Expected Excess Return','CLA-derived Efficient Frontier')"
   ]
  },
  {
   "cell_type": "code",
   "execution_count": 15,
   "id": "7768c217-2dee-4534-bb06-860ea53baf07",
   "metadata": {},
   "outputs": [
    {
     "name": "stdout",
     "output_type": "stream",
     "text": [
      "0.22861727337558824\n",
      "4.453065359613833\n",
      "[[ 8.55305970e-02]\n",
      " [ 4.97111422e-02]\n",
      " [ 0.00000000e+00]\n",
      " [ 2.21146532e-01]\n",
      " [-6.70073794e-19]\n",
      " [ 1.77668135e-01]\n",
      " [ 0.00000000e+00]\n",
      " [ 3.07025386e-02]\n",
      " [ 4.00838454e-03]\n",
      " [ 4.31232670e-01]]\n"
     ]
    }
   ],
   "source": [
    " \n",
    "\n",
    "\n",
    "#5) Get Maximum Sharpe ratio portfolio\n",
    "sr,w_sr=cla.get_maximum_sharpe_portfolio()\n",
    "print(np.dot(np.dot(w_sr.T,cla.covariance),w_sr)[0,0]**.5)\n",
    "print(sr)\n",
    "print(w_sr)\n",
    "\n",
    "   \n",
    "    "
   ]
  },
  {
   "cell_type": "code",
   "execution_count": 16,
   "id": "f1a27d59-c50e-4b92-94a8-a0fa329a1213",
   "metadata": {},
   "outputs": [
    {
     "name": "stdout",
     "output_type": "stream",
     "text": [
      "[[0.20523762]]\n",
      "[[0.03696858]\n",
      " [0.02690084]\n",
      " [0.09494243]\n",
      " [0.12577595]\n",
      " [0.07674608]\n",
      " [0.21935567]\n",
      " [0.0299871 ]\n",
      " [0.03596328]\n",
      " [0.06134984]\n",
      " [0.29201023]]\n"
     ]
    }
   ],
   "source": [
    "#6) Get Minimum Variance portfolio\n",
    "mv,w_mv=cla.get_minimum_variance_portfolio()\n",
    "print (mv)\n",
    "print (w_mv)"
   ]
  },
  {
   "cell_type": "code",
   "execution_count": null,
   "id": "aad313e6-dda2-4f79-a5aa-50f5b8786aac",
   "metadata": {},
   "outputs": [],
   "source": []
  },
  {
   "cell_type": "code",
   "execution_count": null,
   "id": "701126e7-8f15-4869-8225-2140a97ecaab",
   "metadata": {},
   "outputs": [],
   "source": []
  },
  {
   "cell_type": "code",
   "execution_count": null,
   "id": "30b90155-8d64-4413-b32d-56a24a52b483",
   "metadata": {},
   "outputs": [],
   "source": []
  },
  {
   "cell_type": "code",
   "execution_count": 17,
   "id": "a20c2379-2243-4681-9019-1329d961eeea",
   "metadata": {},
   "outputs": [],
   "source": [
    "x,y,z,w_=[],[],[],[]\n",
    "for i in range(len(cla.weights)-1):\n",
    "    w0=np.copy(cla.weights[i])\n",
    "    w1=np.copy(cla.weights[i+1])\n",
    "    for a in np.linspace(1,0,10000):\n",
    "        w=a*w0+(1-a)*w1\n",
    "        w_.append(w)\n",
    "        x.append(np.dot(np.dot(w.T,cla.covariance),w)[0,0]**.5)\n",
    "        y.append(np.dot(w.T,cla.mean)[0,0])\n",
    "        z.append(cla.get_sharpe_of_convex_combination(a,w0,w1))\n"
   ]
  },
  {
   "cell_type": "code",
   "execution_count": 18,
   "id": "d19510f8-d0ec-45c7-9a4f-15e05e31bc96",
   "metadata": {},
   "outputs": [
    {
     "name": "stdout",
     "output_type": "stream",
     "text": [
      "1.19 [[8.39733552e-02]\n",
      " [4.89060688e-02]\n",
      " [1.33448275e-18]\n",
      " [2.18309574e-01]\n",
      " [1.67690574e-03]\n",
      " [1.81200371e-01]\n",
      " [0.00000000e+00]\n",
      " [3.11830024e-02]\n",
      " [7.85868631e-03]\n",
      " [4.26892037e-01]]\n"
     ]
    }
   ],
   "source": [
    "print (max(y),w_[z.index(max(z))])"
   ]
  },
  {
   "cell_type": "code",
   "execution_count": 19,
   "id": "b92623cb-b277-496a-b430-ac14d342544d",
   "metadata": {},
   "outputs": [
    {
     "data": {
      "image/png": "[encoded data removed]",
      "text/plain": [
       "<Figure size 640x480 with 1 Axes>"
      ]
     },
     "metadata": {},
     "output_type": "display_data"
    },
    {
     "data": {
      "text/plain": [
       "<Figure size 640x480 with 0 Axes>"
      ]
     },
     "metadata": {},
     "output_type": "display_data"
    }
   ],
   "source": [
    "plot2D(x,y,'Risk','Expected Excess Return','CLA-derived Efficient Frontier')"
   ]
  },
  {
   "cell_type": "code",
   "execution_count": 20,
   "id": "3c4864ee-4f02-454e-a144-1f4e60eab0ee",
   "metadata": {},
   "outputs": [
    {
     "data": {
      "image/png": "[encoded data removed]",
      "text/plain": [
       "<Figure size 640x480 with 1 Axes>"
      ]
     },
     "metadata": {},
     "output_type": "display_data"
    },
    {
     "data": {
      "text/plain": [
       "<Figure size 640x480 with 0 Axes>"
      ]
     },
     "metadata": {},
     "output_type": "display_data"
    }
   ],
   "source": [
    "plot2D(x,z,'Risk','Sharpe ratio','CLA-derived Sharpe Ratio function')\n"
   ]
  },
  {
   "cell_type": "code",
   "execution_count": null,
   "id": "15b3d0dc-1cf7-481e-9dfb-5e688fdb236a",
   "metadata": {},
   "outputs": [],
   "source": []
  },
  {
   "cell_type": "code",
   "execution_count": null,
   "id": "1920715d-1228-46e0-9eea-654a396b7924",
   "metadata": {},
   "outputs": [],
   "source": []
  }
 ],
 "metadata": {
  "kernelspec": {
   "display_name": "plutus",
   "language": "python",
   "name": "plutus"
  },
  "language_info": {
   "codemirror_mode": {
    "name": "ipython",
    "version": 3
   },
   "file_extension": ".py",
   "mimetype": "text/x-python",
   "name": "python",
   "nbconvert_exporter": "python",
   "pygments_lexer": "ipython3",
   "version": "3.10.13"
  }
 },
 "nbformat": 4,
 "nbformat_minor": 5
}
