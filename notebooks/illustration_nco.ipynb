{
 "cells": [
  {
   "cell_type": "markdown",
   "id": "235d52fd-5007-4a06-898e-b322aed5ebfb",
   "metadata": {},
   "source": [
    "# Portfolio construction"
   ]
  },
  {
   "cell_type": "code",
   "execution_count": null,
   "id": "281687ff-68ad-4011-8720-d70b74107391",
   "metadata": {},
   "outputs": [],
   "source": []
  },
  {
   "cell_type": "code",
   "execution_count": 1,
   "id": "55f643d4-3a16-4560-b6ff-27592dfe78df",
   "metadata": {},
   "outputs": [],
   "source": [
    "%load_ext autoreload \n",
    "%autoreload 2\n",
    "%matplotlib inline "
   ]
  },
  {
   "cell_type": "code",
   "execution_count": 2,
   "id": "b97168f5-fb5e-4ed0-98fa-4c79d7622a7e",
   "metadata": {},
   "outputs": [],
   "source": [
    "import warnings\n",
    "warnings.filterwarnings(\"ignore\")"
   ]
  },
  {
   "cell_type": "code",
   "execution_count": 3,
   "id": "193fb4f1-b154-43da-bbcf-e364f23a97cf",
   "metadata": {},
   "outputs": [],
   "source": [
    "import sys\n",
    "sys.path.append('../')"
   ]
  },
  {
   "cell_type": "code",
   "execution_count": 4,
   "id": "b3d34b1c-04e9-4dee-a2e9-bfae283dc6d6",
   "metadata": {},
   "outputs": [],
   "source": [
    "import matplotlib.pyplot as mpl,seaborn as sns\n",
    "import numpy as np\n",
    "import pandas as pd\n",
    "from scipy.linalg import block_diag\n",
    "from sklearn.covariance import LedoitWolf "
   ]
  },
  {
   "cell_type": "code",
   "execution_count": 5,
   "id": "3e8b9004-c70f-401d-933e-498c132f1b12",
   "metadata": {},
   "outputs": [],
   "source": [
    "from opm.hrp.datasets import build_block_matrix, build_true_matrix\n",
    "from opm.hrp.datasets import simulate_covariance_mean\n",
    "\n",
    "\n",
    "\n",
    "from opm.cluster.OptimalClustering import OptimalClustering\n",
    "\n"
   ]
  },
  {
   "cell_type": "code",
   "execution_count": 6,
   "id": "2a4e1678-b661-45ee-9220-0c93069367e8",
   "metadata": {},
   "outputs": [],
   "source": [
    "from opm.nco.nco import get_minimum_variance_portfolio_weights\n",
    "from opm.nco.nco import get_maximum_sharpe_portfolio_weights\n",
    "from opm.nco.nco import nco\n"
   ]
  },
  {
   "cell_type": "code",
   "execution_count": 7,
   "id": "ff17e9d7-d78c-4d4e-ae57-3dda98bd3011",
   "metadata": {},
   "outputs": [],
   "source": [
    "from opm.hrp.utils import *"
   ]
  },
  {
   "cell_type": "code",
   "execution_count": 8,
   "id": "0248e49e-3c9d-4896-a0d7-9d4ce2b1636e",
   "metadata": {},
   "outputs": [
    {
     "name": "stdout",
     "output_type": "stream",
     "text": [
      "Collecting git+https://github.com/omroot/signalrazor.git\n",
      "  Cloning https://github.com/omroot/signalrazor.git to /private/var/folders/lm/4shz7d3x35q2c4bp8kddjc640000gn/T/pip-req-build-q6xzxacb\n",
      "  Running command git clone -q https://github.com/omroot/signalrazor.git /private/var/folders/lm/4shz7d3x35q2c4bp8kddjc640000gn/T/pip-req-build-q6xzxacb\n",
      "  Resolved https://github.com/omroot/signalrazor.git to commit 7fe77918885546a7b1db5f963369f73a9c46fae6\n",
      "Requirement already satisfied: numpy in /Users/oualid/opt/miniconda3/lib/python3.9/site-packages (from SignalRazor==0.1.0) (1.23.3)\n",
      "Requirement already satisfied: pandas in /Users/oualid/opt/miniconda3/lib/python3.9/site-packages (from SignalRazor==0.1.0) (1.5.0)\n",
      "Requirement already satisfied: python-dateutil>=2.8.1 in /Users/oualid/opt/miniconda3/lib/python3.9/site-packages (from pandas->SignalRazor==0.1.0) (2.8.2)\n",
      "Requirement already satisfied: pytz>=2020.1 in /Users/oualid/opt/miniconda3/lib/python3.9/site-packages (from pandas->SignalRazor==0.1.0) (2022.1)\n",
      "Requirement already satisfied: six>=1.5 in /Users/oualid/opt/miniconda3/lib/python3.9/site-packages (from python-dateutil>=2.8.1->pandas->SignalRazor==0.1.0) (1.16.0)\n"
     ]
    }
   ],
   "source": [
    "!pip install git+https://github.com/omroot/signalrazor.git\n"
   ]
  },
  {
   "cell_type": "code",
   "execution_count": null,
   "id": "65aa0861-e799-4086-84f1-0b6107232725",
   "metadata": {},
   "outputs": [],
   "source": []
  },
  {
   "cell_type": "code",
   "execution_count": 9,
   "id": "94f9d3b2-75d2-4880-ae34-8c97c2468c85",
   "metadata": {},
   "outputs": [],
   "source": [
    "import signalrazor"
   ]
  },
  {
   "cell_type": "code",
   "execution_count": 10,
   "id": "06b9031e-a16f-44d9-807b-6b883b251c4c",
   "metadata": {},
   "outputs": [],
   "source": [
    "from signalrazor import CleanseMatrix\n",
    "from signalrazor import covariance2correlation\n",
    "from signalrazor import compute_pca"
   ]
  },
  {
   "cell_type": "code",
   "execution_count": null,
   "id": "d863e089-bc1c-48ee-a0fe-f2aaeecc2e47",
   "metadata": {},
   "outputs": [],
   "source": [
    "\n"
   ]
  },
  {
   "cell_type": "code",
   "execution_count": 11,
   "id": "6ba75885-6540-453d-8809-f869b33d449f",
   "metadata": {},
   "outputs": [],
   "source": [
    "number_blocks, block_size, block_correlation = 2, 2, .5\n"
   ]
  },
  {
   "cell_type": "code",
   "execution_count": 12,
   "id": "5342ec7a-739a-415f-aa62-072ecba86a68",
   "metadata": {},
   "outputs": [],
   "source": [
    "true_correlation = build_block_matrix(number_blocks=number_blocks ,\n",
    "                                       block_size = block_size,\n",
    "                                       block_correlation = block_correlation)\n"
   ]
  },
  {
   "cell_type": "code",
   "execution_count": 13,
   "id": "d46c5c36-2ac6-4834-ae6c-9582c3a2e3c4",
   "metadata": {},
   "outputs": [
    {
     "data": {
      "text/plain": [
       "(4, 4)"
      ]
     },
     "execution_count": 13,
     "metadata": {},
     "output_type": "execute_result"
    }
   ],
   "source": [
    "true_correlation.shape"
   ]
  },
  {
   "cell_type": "code",
   "execution_count": null,
   "id": "867ba449-fdd4-43d5-964a-0c3bf3e30cd8",
   "metadata": {},
   "outputs": [],
   "source": []
  },
  {
   "cell_type": "code",
   "execution_count": 14,
   "id": "26743f27-6fa1-4c9d-972a-fbc8994126b5",
   "metadata": {},
   "outputs": [],
   "source": [
    "eigenvalues, eigenvectors = np.linalg.eigh(true_correlation)"
   ]
  },
  {
   "cell_type": "code",
   "execution_count": 15,
   "id": "346b4fa6-f36f-4600-9efe-08150cdd5258",
   "metadata": {},
   "outputs": [],
   "source": [
    "true_condition_number = max(eigenvalues)/min(eigenvalues)"
   ]
  },
  {
   "cell_type": "code",
   "execution_count": 16,
   "id": "efcb4b4d-ef60-45a9-8a0d-e34f7468ff25",
   "metadata": {},
   "outputs": [
    {
     "name": "stdout",
     "output_type": "stream",
     "text": [
      "True condition number: 3.0\n"
     ]
    }
   ],
   "source": [
    "print(f'True condition number: {true_condition_number}')"
   ]
  },
  {
   "cell_type": "code",
   "execution_count": 17,
   "id": "b32a0037-c07c-41e3-8f94-50aa7f0adab8",
   "metadata": {},
   "outputs": [
    {
     "data": {
      "text/plain": [
       "<Axes: >"
      ]
     },
     "execution_count": 17,
     "metadata": {},
     "output_type": "execute_result"
    },
    {
     "data": {
      "image/png": "[encoded data removed]",
      "text/plain": [
       "<Figure size 640x480 with 2 Axes>"
      ]
     },
     "metadata": {},
     "output_type": "display_data"
    }
   ],
   "source": [
    "sns.heatmap(true_correlation,cmap='viridis')"
   ]
  },
  {
   "cell_type": "code",
   "execution_count": null,
   "id": "13c40311-bee9-40b9-ae08-8bbf298ee80f",
   "metadata": {},
   "outputs": [],
   "source": []
  },
  {
   "cell_type": "code",
   "execution_count": null,
   "id": "5f62b2eb-1bb6-4a68-9388-1a4c802f8c7f",
   "metadata": {},
   "outputs": [],
   "source": []
  },
  {
   "cell_type": "code",
   "execution_count": 18,
   "id": "a61500e9-ce2e-44e5-a4fa-b753bd1ec8fa",
   "metadata": {},
   "outputs": [],
   "source": [
    "\n",
    "true_correlation_1 = block_diag(build_block_matrix(number_blocks=1 ,\n",
    "                                       block_size = 2,\n",
    "                                       block_correlation = 0.5))\n",
    "\n"
   ]
  },
  {
   "cell_type": "code",
   "execution_count": 19,
   "id": "837c1332-46b7-4438-9b9b-0c02f6673f71",
   "metadata": {},
   "outputs": [
    {
     "data": {
      "text/plain": [
       "array([[1. , 0.5],\n",
       "       [0.5, 1. ]])"
      ]
     },
     "execution_count": 19,
     "metadata": {},
     "output_type": "execute_result"
    }
   ],
   "source": [
    "true_correlation_1"
   ]
  },
  {
   "cell_type": "code",
   "execution_count": 20,
   "id": "0925f1b7-f2f0-4597-9814-108ee4e4f467",
   "metadata": {},
   "outputs": [],
   "source": [
    "true_correlation_2 = build_block_matrix(number_blocks=1 ,\n",
    "                                       block_size = 2,\n",
    "                                       block_correlation = 0)"
   ]
  },
  {
   "cell_type": "code",
   "execution_count": 21,
   "id": "0e4814cc-462c-44e8-b163-e0ae85595065",
   "metadata": {},
   "outputs": [
    {
     "data": {
      "text/plain": [
       "array([[1., 0.],\n",
       "       [0., 1.]])"
      ]
     },
     "execution_count": 21,
     "metadata": {},
     "output_type": "execute_result"
    }
   ],
   "source": [
    "true_correlation_2"
   ]
  },
  {
   "cell_type": "code",
   "execution_count": null,
   "id": "6c15af4a-ad24-42a7-9439-8d411c2484c4",
   "metadata": {},
   "outputs": [],
   "source": []
  },
  {
   "cell_type": "code",
   "execution_count": null,
   "id": "bdc7506d-a0ae-4f7f-a163-81e07d31509f",
   "metadata": {},
   "outputs": [],
   "source": []
  },
  {
   "cell_type": "code",
   "execution_count": 22,
   "id": "b180b511-551a-4e6c-8007-06d3cf9791d3",
   "metadata": {},
   "outputs": [],
   "source": [
    "true_correlation_1=block_diag(true_correlation_1,true_correlation_2)"
   ]
  },
  {
   "cell_type": "code",
   "execution_count": 23,
   "id": "e273bfec-3dc2-4c72-8185-3e3b3295f722",
   "metadata": {},
   "outputs": [
    {
     "data": {
      "text/plain": [
       "array([[1. , 0.5, 0. , 0. ],\n",
       "       [0.5, 1. , 0. , 0. ],\n",
       "       [0. , 0. , 1. , 0. ],\n",
       "       [0. , 0. , 0. , 1. ]])"
      ]
     },
     "execution_count": 23,
     "metadata": {},
     "output_type": "execute_result"
    }
   ],
   "source": [
    "true_correlation_1"
   ]
  },
  {
   "cell_type": "code",
   "execution_count": null,
   "id": "bdb8218a-7836-4c8c-b0ed-ebb716d4d941",
   "metadata": {},
   "outputs": [],
   "source": []
  },
  {
   "cell_type": "code",
   "execution_count": 24,
   "id": "48c447c0-2127-473a-bd29-bcd5d9057d93",
   "metadata": {},
   "outputs": [],
   "source": [
    "eigenvalues_1, eigenvectors_1 = np.linalg.eigh(true_correlation_1)"
   ]
  },
  {
   "cell_type": "code",
   "execution_count": 25,
   "id": "a2b5a32a-eec4-45d4-82d6-4afccd8f7613",
   "metadata": {},
   "outputs": [],
   "source": [
    "true_condition_number_1 = max(eigenvalues_1)/min(eigenvalues_1)"
   ]
  },
  {
   "cell_type": "code",
   "execution_count": 26,
   "id": "2ca1aaf5-f1ab-4f00-bca6-bc4670de175a",
   "metadata": {},
   "outputs": [
    {
     "data": {
      "text/plain": [
       "3.0"
      ]
     },
     "execution_count": 26,
     "metadata": {},
     "output_type": "execute_result"
    }
   ],
   "source": [
    "true_condition_number_1"
   ]
  },
  {
   "cell_type": "code",
   "execution_count": 27,
   "id": "36c1516b-75e6-4812-8f7a-91b0149c2b8f",
   "metadata": {},
   "outputs": [
    {
     "data": {
      "text/plain": [
       "<Axes: >"
      ]
     },
     "execution_count": 27,
     "metadata": {},
     "output_type": "execute_result"
    },
    {
     "data": {
      "image/png": "[encoded data removed]",
      "text/plain": [
       "<Figure size 640x480 with 2 Axes>"
      ]
     },
     "metadata": {},
     "output_type": "display_data"
    }
   ],
   "source": [
    "sns.heatmap(true_correlation_1,cmap='viridis')"
   ]
  },
  {
   "cell_type": "code",
   "execution_count": null,
   "id": "ee69747c-2d15-4156-ac24-0390342670b4",
   "metadata": {},
   "outputs": [],
   "source": []
  },
  {
   "cell_type": "markdown",
   "id": "3f81397a-806a-4026-972b-d94bc53a3028",
   "metadata": {},
   "source": [
    "## The nested clustered optimization algorithm"
   ]
  },
  {
   "cell_type": "markdown",
   "id": "754beccf-d593-4ad7-8a6e-7fb6a8677397",
   "metadata": {},
   "source": [
    "### Correlation clustering "
   ]
  },
  {
   "cell_type": "code",
   "execution_count": null,
   "id": "c53c0a83-1192-4c0d-aef2-1271d07a324b",
   "metadata": {},
   "outputs": [],
   "source": []
  },
  {
   "cell_type": "code",
   "execution_count": null,
   "id": "998871f9-da0a-4c7a-b2cd-f11a84d0f395",
   "metadata": {},
   "outputs": [],
   "source": []
  },
  {
   "cell_type": "code",
   "execution_count": null,
   "id": "b28e21f4-455a-4435-b005-925a4f8078e6",
   "metadata": {},
   "outputs": [],
   "source": []
  },
  {
   "cell_type": "code",
   "execution_count": 28,
   "id": "b8922f0e-063a-4964-8c4c-e82aa609b673",
   "metadata": {},
   "outputs": [],
   "source": [
    "number_blocks, block_size, block_correlation = 10,50, 0.5"
   ]
  },
  {
   "cell_type": "code",
   "execution_count": 29,
   "id": "5efef7fe-2523-4abe-bbce-a0a9a1862ffc",
   "metadata": {},
   "outputs": [],
   "source": [
    "\n",
    "np.random.seed(0)\n",
    "true_mu,true_covariance=build_true_matrix(number_blocks = number_blocks,\n",
    "                                              block_size = block_size ,\n",
    "                                              block_correlation = block_correlation)"
   ]
  },
  {
   "cell_type": "code",
   "execution_count": null,
   "id": "d7ece048-029a-4f56-a9a8-d3e6f3acf141",
   "metadata": {},
   "outputs": [],
   "source": []
  },
  {
   "cell_type": "code",
   "execution_count": 30,
   "id": "b54ad1d1-f5e4-4d64-8d07-434afb7c55b1",
   "metadata": {},
   "outputs": [
    {
     "data": {
      "text/html": [
       "<div>\n",
       "<style scoped>\n",
       "    .dataframe tbody tr th:only-of-type {\n",
       "        vertical-align: middle;\n",
       "    }\n",
       "\n",
       "    .dataframe tbody tr th {\n",
       "        vertical-align: top;\n",
       "    }\n",
       "\n",
       "    .dataframe thead th {\n",
       "        text-align: right;\n",
       "    }\n",
       "</style>\n",
       "<table border=\"1\" class=\"dataframe\">\n",
       "  <thead>\n",
       "    <tr style=\"text-align: right;\">\n",
       "      <th></th>\n",
       "      <th>90</th>\n",
       "      <th>254</th>\n",
       "      <th>283</th>\n",
       "      <th>445</th>\n",
       "      <th>461</th>\n",
       "      <th>15</th>\n",
       "      <th>316</th>\n",
       "      <th>489</th>\n",
       "      <th>159</th>\n",
       "      <th>153</th>\n",
       "      <th>...</th>\n",
       "      <th>211</th>\n",
       "      <th>9</th>\n",
       "      <th>359</th>\n",
       "      <th>195</th>\n",
       "      <th>251</th>\n",
       "      <th>323</th>\n",
       "      <th>192</th>\n",
       "      <th>117</th>\n",
       "      <th>47</th>\n",
       "      <th>172</th>\n",
       "    </tr>\n",
       "  </thead>\n",
       "  <tbody>\n",
       "    <tr>\n",
       "      <th>90</th>\n",
       "      <td>0.014156</td>\n",
       "      <td>0.000000</td>\n",
       "      <td>0.000000</td>\n",
       "      <td>0.000000</td>\n",
       "      <td>0.000000</td>\n",
       "      <td>0.000000</td>\n",
       "      <td>0.000000</td>\n",
       "      <td>0.000000</td>\n",
       "      <td>0.000000</td>\n",
       "      <td>0.000000</td>\n",
       "      <td>...</td>\n",
       "      <td>0.0</td>\n",
       "      <td>0.000000</td>\n",
       "      <td>0.0</td>\n",
       "      <td>0.000000</td>\n",
       "      <td>0.000000</td>\n",
       "      <td>0.000000</td>\n",
       "      <td>0.000000</td>\n",
       "      <td>0.00000</td>\n",
       "      <td>0.000000</td>\n",
       "      <td>0.000000</td>\n",
       "    </tr>\n",
       "    <tr>\n",
       "      <th>254</th>\n",
       "      <td>0.000000</td>\n",
       "      <td>0.003214</td>\n",
       "      <td>0.004818</td>\n",
       "      <td>0.000000</td>\n",
       "      <td>0.000000</td>\n",
       "      <td>0.000000</td>\n",
       "      <td>0.000000</td>\n",
       "      <td>0.000000</td>\n",
       "      <td>0.000000</td>\n",
       "      <td>0.000000</td>\n",
       "      <td>...</td>\n",
       "      <td>0.0</td>\n",
       "      <td>0.000000</td>\n",
       "      <td>0.0</td>\n",
       "      <td>0.000000</td>\n",
       "      <td>0.005307</td>\n",
       "      <td>0.000000</td>\n",
       "      <td>0.000000</td>\n",
       "      <td>0.00000</td>\n",
       "      <td>0.000000</td>\n",
       "      <td>0.000000</td>\n",
       "    </tr>\n",
       "    <tr>\n",
       "      <th>283</th>\n",
       "      <td>0.000000</td>\n",
       "      <td>0.004818</td>\n",
       "      <td>0.028890</td>\n",
       "      <td>0.000000</td>\n",
       "      <td>0.000000</td>\n",
       "      <td>0.000000</td>\n",
       "      <td>0.000000</td>\n",
       "      <td>0.000000</td>\n",
       "      <td>0.000000</td>\n",
       "      <td>0.000000</td>\n",
       "      <td>...</td>\n",
       "      <td>0.0</td>\n",
       "      <td>0.000000</td>\n",
       "      <td>0.0</td>\n",
       "      <td>0.000000</td>\n",
       "      <td>0.015912</td>\n",
       "      <td>0.000000</td>\n",
       "      <td>0.000000</td>\n",
       "      <td>0.00000</td>\n",
       "      <td>0.000000</td>\n",
       "      <td>0.000000</td>\n",
       "    </tr>\n",
       "    <tr>\n",
       "      <th>445</th>\n",
       "      <td>0.000000</td>\n",
       "      <td>0.000000</td>\n",
       "      <td>0.000000</td>\n",
       "      <td>0.003788</td>\n",
       "      <td>0.000000</td>\n",
       "      <td>0.000000</td>\n",
       "      <td>0.000000</td>\n",
       "      <td>0.000000</td>\n",
       "      <td>0.000000</td>\n",
       "      <td>0.000000</td>\n",
       "      <td>...</td>\n",
       "      <td>0.0</td>\n",
       "      <td>0.000000</td>\n",
       "      <td>0.0</td>\n",
       "      <td>0.000000</td>\n",
       "      <td>0.000000</td>\n",
       "      <td>0.000000</td>\n",
       "      <td>0.000000</td>\n",
       "      <td>0.00000</td>\n",
       "      <td>0.000000</td>\n",
       "      <td>0.000000</td>\n",
       "    </tr>\n",
       "    <tr>\n",
       "      <th>461</th>\n",
       "      <td>0.000000</td>\n",
       "      <td>0.000000</td>\n",
       "      <td>0.000000</td>\n",
       "      <td>0.000000</td>\n",
       "      <td>0.016339</td>\n",
       "      <td>0.000000</td>\n",
       "      <td>0.000000</td>\n",
       "      <td>0.012394</td>\n",
       "      <td>0.000000</td>\n",
       "      <td>0.000000</td>\n",
       "      <td>...</td>\n",
       "      <td>0.0</td>\n",
       "      <td>0.000000</td>\n",
       "      <td>0.0</td>\n",
       "      <td>0.000000</td>\n",
       "      <td>0.000000</td>\n",
       "      <td>0.000000</td>\n",
       "      <td>0.000000</td>\n",
       "      <td>0.00000</td>\n",
       "      <td>0.000000</td>\n",
       "      <td>0.000000</td>\n",
       "    </tr>\n",
       "    <tr>\n",
       "      <th>...</th>\n",
       "      <td>...</td>\n",
       "      <td>...</td>\n",
       "      <td>...</td>\n",
       "      <td>...</td>\n",
       "      <td>...</td>\n",
       "      <td>...</td>\n",
       "      <td>...</td>\n",
       "      <td>...</td>\n",
       "      <td>...</td>\n",
       "      <td>...</td>\n",
       "      <td>...</td>\n",
       "      <td>...</td>\n",
       "      <td>...</td>\n",
       "      <td>...</td>\n",
       "      <td>...</td>\n",
       "      <td>...</td>\n",
       "      <td>...</td>\n",
       "      <td>...</td>\n",
       "      <td>...</td>\n",
       "      <td>...</td>\n",
       "      <td>...</td>\n",
       "    </tr>\n",
       "    <tr>\n",
       "      <th>323</th>\n",
       "      <td>0.000000</td>\n",
       "      <td>0.000000</td>\n",
       "      <td>0.000000</td>\n",
       "      <td>0.000000</td>\n",
       "      <td>0.000000</td>\n",
       "      <td>0.000000</td>\n",
       "      <td>0.003921</td>\n",
       "      <td>0.000000</td>\n",
       "      <td>0.000000</td>\n",
       "      <td>0.000000</td>\n",
       "      <td>...</td>\n",
       "      <td>0.0</td>\n",
       "      <td>0.000000</td>\n",
       "      <td>0.0</td>\n",
       "      <td>0.000000</td>\n",
       "      <td>0.000000</td>\n",
       "      <td>0.003295</td>\n",
       "      <td>0.000000</td>\n",
       "      <td>0.00000</td>\n",
       "      <td>0.000000</td>\n",
       "      <td>0.000000</td>\n",
       "    </tr>\n",
       "    <tr>\n",
       "      <th>192</th>\n",
       "      <td>0.000000</td>\n",
       "      <td>0.000000</td>\n",
       "      <td>0.000000</td>\n",
       "      <td>0.000000</td>\n",
       "      <td>0.000000</td>\n",
       "      <td>0.000000</td>\n",
       "      <td>0.000000</td>\n",
       "      <td>0.000000</td>\n",
       "      <td>0.006896</td>\n",
       "      <td>0.002597</td>\n",
       "      <td>...</td>\n",
       "      <td>0.0</td>\n",
       "      <td>0.000000</td>\n",
       "      <td>0.0</td>\n",
       "      <td>0.005726</td>\n",
       "      <td>0.000000</td>\n",
       "      <td>0.000000</td>\n",
       "      <td>0.008823</td>\n",
       "      <td>0.00000</td>\n",
       "      <td>0.000000</td>\n",
       "      <td>0.003567</td>\n",
       "    </tr>\n",
       "    <tr>\n",
       "      <th>117</th>\n",
       "      <td>0.000000</td>\n",
       "      <td>0.000000</td>\n",
       "      <td>0.000000</td>\n",
       "      <td>0.000000</td>\n",
       "      <td>0.000000</td>\n",
       "      <td>0.000000</td>\n",
       "      <td>0.000000</td>\n",
       "      <td>0.000000</td>\n",
       "      <td>0.000000</td>\n",
       "      <td>0.000000</td>\n",
       "      <td>...</td>\n",
       "      <td>0.0</td>\n",
       "      <td>0.000000</td>\n",
       "      <td>0.0</td>\n",
       "      <td>0.000000</td>\n",
       "      <td>0.000000</td>\n",
       "      <td>0.000000</td>\n",
       "      <td>0.000000</td>\n",
       "      <td>0.02473</td>\n",
       "      <td>0.000000</td>\n",
       "      <td>0.000000</td>\n",
       "    </tr>\n",
       "    <tr>\n",
       "      <th>47</th>\n",
       "      <td>0.000000</td>\n",
       "      <td>0.000000</td>\n",
       "      <td>0.000000</td>\n",
       "      <td>0.000000</td>\n",
       "      <td>0.000000</td>\n",
       "      <td>0.005412</td>\n",
       "      <td>0.000000</td>\n",
       "      <td>0.000000</td>\n",
       "      <td>0.000000</td>\n",
       "      <td>0.000000</td>\n",
       "      <td>...</td>\n",
       "      <td>0.0</td>\n",
       "      <td>0.008207</td>\n",
       "      <td>0.0</td>\n",
       "      <td>0.000000</td>\n",
       "      <td>0.000000</td>\n",
       "      <td>0.000000</td>\n",
       "      <td>0.000000</td>\n",
       "      <td>0.00000</td>\n",
       "      <td>0.012705</td>\n",
       "      <td>0.000000</td>\n",
       "    </tr>\n",
       "    <tr>\n",
       "      <th>172</th>\n",
       "      <td>0.000000</td>\n",
       "      <td>0.000000</td>\n",
       "      <td>0.000000</td>\n",
       "      <td>0.000000</td>\n",
       "      <td>0.000000</td>\n",
       "      <td>0.000000</td>\n",
       "      <td>0.000000</td>\n",
       "      <td>0.000000</td>\n",
       "      <td>0.005576</td>\n",
       "      <td>0.002100</td>\n",
       "      <td>...</td>\n",
       "      <td>0.0</td>\n",
       "      <td>0.000000</td>\n",
       "      <td>0.0</td>\n",
       "      <td>0.004629</td>\n",
       "      <td>0.000000</td>\n",
       "      <td>0.000000</td>\n",
       "      <td>0.003567</td>\n",
       "      <td>0.00000</td>\n",
       "      <td>0.000000</td>\n",
       "      <td>0.005767</td>\n",
       "    </tr>\n",
       "  </tbody>\n",
       "</table>\n",
       "<p>500 rows × 500 columns</p>\n",
       "</div>"
      ],
      "text/plain": [
       "          90        254       283       445       461       15        316  \\\n",
       "90   0.014156  0.000000  0.000000  0.000000  0.000000  0.000000  0.000000   \n",
       "254  0.000000  0.003214  0.004818  0.000000  0.000000  0.000000  0.000000   \n",
       "283  0.000000  0.004818  0.028890  0.000000  0.000000  0.000000  0.000000   \n",
       "445  0.000000  0.000000  0.000000  0.003788  0.000000  0.000000  0.000000   \n",
       "461  0.000000  0.000000  0.000000  0.000000  0.016339  0.000000  0.000000   \n",
       "..        ...       ...       ...       ...       ...       ...       ...   \n",
       "323  0.000000  0.000000  0.000000  0.000000  0.000000  0.000000  0.003921   \n",
       "192  0.000000  0.000000  0.000000  0.000000  0.000000  0.000000  0.000000   \n",
       "117  0.000000  0.000000  0.000000  0.000000  0.000000  0.000000  0.000000   \n",
       "47   0.000000  0.000000  0.000000  0.000000  0.000000  0.005412  0.000000   \n",
       "172  0.000000  0.000000  0.000000  0.000000  0.000000  0.000000  0.000000   \n",
       "\n",
       "          489       159       153  ...  211       9    359       195  \\\n",
       "90   0.000000  0.000000  0.000000  ...  0.0  0.000000  0.0  0.000000   \n",
       "254  0.000000  0.000000  0.000000  ...  0.0  0.000000  0.0  0.000000   \n",
       "283  0.000000  0.000000  0.000000  ...  0.0  0.000000  0.0  0.000000   \n",
       "445  0.000000  0.000000  0.000000  ...  0.0  0.000000  0.0  0.000000   \n",
       "461  0.012394  0.000000  0.000000  ...  0.0  0.000000  0.0  0.000000   \n",
       "..        ...       ...       ...  ...  ...       ...  ...       ...   \n",
       "323  0.000000  0.000000  0.000000  ...  0.0  0.000000  0.0  0.000000   \n",
       "192  0.000000  0.006896  0.002597  ...  0.0  0.000000  0.0  0.005726   \n",
       "117  0.000000  0.000000  0.000000  ...  0.0  0.000000  0.0  0.000000   \n",
       "47   0.000000  0.000000  0.000000  ...  0.0  0.008207  0.0  0.000000   \n",
       "172  0.000000  0.005576  0.002100  ...  0.0  0.000000  0.0  0.004629   \n",
       "\n",
       "          251       323       192      117       47        172  \n",
       "90   0.000000  0.000000  0.000000  0.00000  0.000000  0.000000  \n",
       "254  0.005307  0.000000  0.000000  0.00000  0.000000  0.000000  \n",
       "283  0.015912  0.000000  0.000000  0.00000  0.000000  0.000000  \n",
       "445  0.000000  0.000000  0.000000  0.00000  0.000000  0.000000  \n",
       "461  0.000000  0.000000  0.000000  0.00000  0.000000  0.000000  \n",
       "..        ...       ...       ...      ...       ...       ...  \n",
       "323  0.000000  0.003295  0.000000  0.00000  0.000000  0.000000  \n",
       "192  0.000000  0.000000  0.008823  0.00000  0.000000  0.003567  \n",
       "117  0.000000  0.000000  0.000000  0.02473  0.000000  0.000000  \n",
       "47   0.000000  0.000000  0.000000  0.00000  0.012705  0.000000  \n",
       "172  0.000000  0.000000  0.003567  0.00000  0.000000  0.005767  \n",
       "\n",
       "[500 rows x 500 columns]"
      ]
     },
     "execution_count": 30,
     "metadata": {},
     "output_type": "execute_result"
    }
   ],
   "source": [
    "true_covariance"
   ]
  },
  {
   "cell_type": "code",
   "execution_count": 31,
   "id": "ae09fef4-931f-43a7-87f7-fe20e51ca7d2",
   "metadata": {},
   "outputs": [
    {
     "data": {
      "text/plain": [
       "<Axes: >"
      ]
     },
     "execution_count": 31,
     "metadata": {},
     "output_type": "execute_result"
    },
    {
     "data": {
      "image/png": "[encoded data removed]",
      "text/plain": [
       "<Figure size 640x480 with 2 Axes>"
      ]
     },
     "metadata": {},
     "output_type": "display_data"
    }
   ],
   "source": [
    "sns.heatmap(true_covariance,cmap='viridis')"
   ]
  },
  {
   "cell_type": "code",
   "execution_count": 32,
   "id": "a389479c-c114-4407-95ae-32f4899506a6",
   "metadata": {},
   "outputs": [],
   "source": [
    "eigenvalues, eigenvectors=compute_pca(true_covariance)"
   ]
  },
  {
   "cell_type": "code",
   "execution_count": 33,
   "id": "fb91a802-5cdb-4f7a-8e71-080226b816c8",
   "metadata": {},
   "outputs": [
    {
     "data": {
      "text/plain": [
       "<Axes: >"
      ]
     },
     "execution_count": 33,
     "metadata": {},
     "output_type": "execute_result"
    },
    {
     "data": {
      "image/png": "[encoded data removed]",
      "text/plain": [
       "<Figure size 640x480 with 1 Axes>"
      ]
     },
     "metadata": {},
     "output_type": "display_data"
    }
   ],
   "source": [
    "pd.Series(np.diag(eigenvalues)).hist(bins=100, log = True)"
   ]
  },
  {
   "cell_type": "code",
   "execution_count": 34,
   "id": "1507cfbf-13d1-425b-a04c-229975834d0d",
   "metadata": {},
   "outputs": [],
   "source": [
    "column_name = true_covariance.columns"
   ]
  },
  {
   "cell_type": "code",
   "execution_count": 35,
   "id": "7b6462c0-d24d-4dc5-aff3-a95e8e1fd192",
   "metadata": {},
   "outputs": [],
   "source": [
    "covariance_matrix_cleanser = CleanseMatrix(  use_shrinkage = False,\n",
    "                                             shrinkage_regularizer = 0.01,\n",
    "                                             detone = False,\n",
    "                                             market_components_max_index =1,\n",
    "                                             grid_size = 100,\n",
    "                                             kernel = 'gaussian',\n",
    "                                             cv = 2,\n",
    "                                             min_bandwidth_grid_exponent = -3,\n",
    "                                             max_bandwidth_grid_exponent  = 1,\n",
    "                                             bandwidth_grid_size = 250,\n",
    "                                             initial_variance  = 0.5,\n",
    "                                             epsilon = 1e-5,\n",
    "                                             min_q = 10,\n",
    "                                             max_q = 10,\n",
    "                                             q_grid_size = 1,\n",
    "                                             verbose = True)"
   ]
  },
  {
   "cell_type": "code",
   "execution_count": 36,
   "id": "e5c63949-601c-477b-976d-693acafa41d1",
   "metadata": {
    "tags": []
   },
   "outputs": [
    {
     "name": "stdout",
     "output_type": "stream",
     "text": [
      "For q=10.0, the optimal variance is 1.0 , and objective function is 69.0,and max random eigen value: 1.73,and # of signal factors: 0\n",
      "(500, 500)\n",
      "[[ 1.73160917e-02 -5.74778649e-19 -9.96506188e-19 ...  1.62727192e-20\n",
      "   5.04407493e-20 -2.87343923e-20]\n",
      " [-5.74778649e-19  1.73160917e-02 -1.21972744e-19 ... -2.40096496e-19\n",
      "  -1.33209507e-19 -5.84240181e-20]\n",
      " [-9.96506188e-19 -6.77626358e-20  1.73160917e-02 ...  2.31860093e-18\n",
      "   4.45561287e-19 -7.89010041e-19]\n",
      " ...\n",
      " [ 1.62727192e-20 -2.40096496e-19  2.31860093e-18 ...  1.73160917e-02\n",
      "   2.80069490e-18 -1.93244564e-18]\n",
      " [ 5.04407493e-20 -1.33209507e-19  4.45561287e-19 ...  2.80069490e-18\n",
      "   1.73160917e-02 -3.74478548e-19]\n",
      " [-2.87343923e-20 -5.84240181e-20 -7.89010041e-19 ... -1.93244564e-18\n",
      "  -3.74478548e-19  1.73160917e-02]]\n",
      "[[ 1.73160917e-02 -5.74778649e-19 -9.96506188e-19 ...  1.62727192e-20\n",
      "   5.04407493e-20 -2.87343923e-20]\n",
      " [-5.74778649e-19  1.73160917e-02 -1.21972744e-19 ... -2.40096496e-19\n",
      "  -1.33209507e-19 -5.84240181e-20]\n",
      " [-9.96506188e-19 -6.77626358e-20  1.73160917e-02 ...  2.31860093e-18\n",
      "   4.45561287e-19 -7.89010041e-19]\n",
      " ...\n",
      " [ 1.62727192e-20 -2.40096496e-19  2.31860093e-18 ...  1.73160917e-02\n",
      "   2.80069490e-18 -1.93244564e-18]\n",
      " [ 5.04407493e-20 -1.33209507e-19  4.45561287e-19 ...  2.80069490e-18\n",
      "   1.73160917e-02 -3.74478548e-19]\n",
      " [-2.87343923e-20 -5.84240181e-20 -7.89010041e-19 ... -1.93244564e-18\n",
      "  -3.74478548e-19  1.73160917e-02]]\n"
     ]
    }
   ],
   "source": [
    "covariance_matrix_cleanser.fit(true_covariance)"
   ]
  },
  {
   "cell_type": "code",
   "execution_count": null,
   "id": "0a4fb5ca-826f-4fa3-9581-8b65bad4cd24",
   "metadata": {},
   "outputs": [],
   "source": []
  },
  {
   "cell_type": "code",
   "execution_count": 37,
   "id": "7db257e4-7fec-448c-840b-5fad79238601",
   "metadata": {},
   "outputs": [
    {
     "data": {
      "text/plain": [
       "<Axes: >"
      ]
     },
     "execution_count": 37,
     "metadata": {},
     "output_type": "execute_result"
    },
    {
     "data": {
      "image/png": "[encoded data removed]",
      "text/plain": [
       "<Figure size 640x480 with 2 Axes>"
      ]
     },
     "metadata": {},
     "output_type": "display_data"
    }
   ],
   "source": [
    "sns.heatmap(covariance_matrix_cleanser.cleansed_matrix,cmap='viridis')"
   ]
  },
  {
   "cell_type": "code",
   "execution_count": 38,
   "id": "55b7b246-e1f4-41e8-bc61-19149a678b97",
   "metadata": {},
   "outputs": [
    {
     "data": {
      "text/plain": [
       "0"
      ]
     },
     "execution_count": 38,
     "metadata": {},
     "output_type": "execute_result"
    }
   ],
   "source": [
    "covariance_matrix_cleanser.estimated_number_signal_factors"
   ]
  },
  {
   "cell_type": "code",
   "execution_count": 39,
   "id": "0e1a15de-0ca5-4a2a-af74-843a31a229d1",
   "metadata": {},
   "outputs": [],
   "source": [
    "true_covariance_cleansed=pd.DataFrame(covariance_matrix_cleanser.cleansed_matrix,index=column_name,columns=column_name)"
   ]
  },
  {
   "cell_type": "code",
   "execution_count": 40,
   "id": "716971f0-d247-4ce0-af71-c58aa941cbb0",
   "metadata": {},
   "outputs": [],
   "source": [
    "true_correlation_cleansed = covariance2correlation(true_covariance_cleansed)"
   ]
  },
  {
   "cell_type": "code",
   "execution_count": 41,
   "id": "1700ab68-2593-4ba6-8b62-54282d135584",
   "metadata": {},
   "outputs": [
    {
     "data": {
      "text/plain": [
       "(500, 500)"
      ]
     },
     "execution_count": 41,
     "metadata": {},
     "output_type": "execute_result"
    }
   ],
   "source": [
    "true_correlation_cleansed.shape"
   ]
  },
  {
   "cell_type": "code",
   "execution_count": 42,
   "id": "a31b18da-e4ab-4ed7-8b0c-e6f4f54b6547",
   "metadata": {},
   "outputs": [
    {
     "name": "stdout",
     "output_type": "stream",
     "text": [
      "Clustering using the Silhouette method\n"
     ]
    }
   ],
   "source": [
    "optimal_clustering_model = OptimalClustering(n_jobs=8, \n",
    "                                             is_input_correlation = False,\n",
    "                                             max_number_clusters=20)\n",
    "optimal_clustering_model.fit(true_covariance)"
   ]
  },
  {
   "cell_type": "code",
   "execution_count": 43,
   "id": "c8c18423-4c4d-4f42-8488-cae930b35517",
   "metadata": {},
   "outputs": [
    {
     "data": {
      "text/plain": [
       "10"
      ]
     },
     "execution_count": 43,
     "metadata": {},
     "output_type": "execute_result"
    }
   ],
   "source": [
    "optimal_clustering_model.n_clusters"
   ]
  },
  {
   "cell_type": "code",
   "execution_count": 44,
   "id": "7ebb9f93-3621-4369-ace4-30cb05d91cc4",
   "metadata": {},
   "outputs": [
    {
     "data": {
      "text/html": [
       "<div>\n",
       "<style scoped>\n",
       "    .dataframe tbody tr th:only-of-type {\n",
       "        vertical-align: middle;\n",
       "    }\n",
       "\n",
       "    .dataframe tbody tr th {\n",
       "        vertical-align: top;\n",
       "    }\n",
       "\n",
       "    .dataframe thead th {\n",
       "        text-align: right;\n",
       "    }\n",
       "</style>\n",
       "<table border=\"1\" class=\"dataframe\">\n",
       "  <thead>\n",
       "    <tr style=\"text-align: right;\">\n",
       "      <th></th>\n",
       "      <th>356</th>\n",
       "      <th>385</th>\n",
       "      <th>364</th>\n",
       "      <th>368</th>\n",
       "      <th>388</th>\n",
       "      <th>394</th>\n",
       "      <th>374</th>\n",
       "      <th>381</th>\n",
       "      <th>357</th>\n",
       "      <th>382</th>\n",
       "      <th>...</th>\n",
       "      <th>339</th>\n",
       "      <th>322</th>\n",
       "      <th>318</th>\n",
       "      <th>340</th>\n",
       "      <th>311</th>\n",
       "      <th>338</th>\n",
       "      <th>315</th>\n",
       "      <th>313</th>\n",
       "      <th>302</th>\n",
       "      <th>310</th>\n",
       "    </tr>\n",
       "  </thead>\n",
       "  <tbody>\n",
       "    <tr>\n",
       "      <th>356</th>\n",
       "      <td>0.005896</td>\n",
       "      <td>0.006602</td>\n",
       "      <td>0.006012</td>\n",
       "      <td>0.004962</td>\n",
       "      <td>0.005811</td>\n",
       "      <td>0.002536</td>\n",
       "      <td>0.006506</td>\n",
       "      <td>0.007242</td>\n",
       "      <td>0.006804</td>\n",
       "      <td>0.003707</td>\n",
       "      <td>...</td>\n",
       "      <td>0.000000</td>\n",
       "      <td>0.000000</td>\n",
       "      <td>0.000000</td>\n",
       "      <td>0.000000</td>\n",
       "      <td>0.000000</td>\n",
       "      <td>0.000000</td>\n",
       "      <td>0.000000</td>\n",
       "      <td>0.000000</td>\n",
       "      <td>0.000000</td>\n",
       "      <td>0.000000</td>\n",
       "    </tr>\n",
       "    <tr>\n",
       "      <th>385</th>\n",
       "      <td>0.006602</td>\n",
       "      <td>0.029570</td>\n",
       "      <td>0.013463</td>\n",
       "      <td>0.011112</td>\n",
       "      <td>0.013013</td>\n",
       "      <td>0.005679</td>\n",
       "      <td>0.014570</td>\n",
       "      <td>0.016218</td>\n",
       "      <td>0.015237</td>\n",
       "      <td>0.008302</td>\n",
       "      <td>...</td>\n",
       "      <td>0.000000</td>\n",
       "      <td>0.000000</td>\n",
       "      <td>0.000000</td>\n",
       "      <td>0.000000</td>\n",
       "      <td>0.000000</td>\n",
       "      <td>0.000000</td>\n",
       "      <td>0.000000</td>\n",
       "      <td>0.000000</td>\n",
       "      <td>0.000000</td>\n",
       "      <td>0.000000</td>\n",
       "    </tr>\n",
       "    <tr>\n",
       "      <th>364</th>\n",
       "      <td>0.006012</td>\n",
       "      <td>0.013463</td>\n",
       "      <td>0.024517</td>\n",
       "      <td>0.010118</td>\n",
       "      <td>0.011849</td>\n",
       "      <td>0.005171</td>\n",
       "      <td>0.013267</td>\n",
       "      <td>0.014767</td>\n",
       "      <td>0.013875</td>\n",
       "      <td>0.007559</td>\n",
       "      <td>...</td>\n",
       "      <td>0.000000</td>\n",
       "      <td>0.000000</td>\n",
       "      <td>0.000000</td>\n",
       "      <td>0.000000</td>\n",
       "      <td>0.000000</td>\n",
       "      <td>0.000000</td>\n",
       "      <td>0.000000</td>\n",
       "      <td>0.000000</td>\n",
       "      <td>0.000000</td>\n",
       "      <td>0.000000</td>\n",
       "    </tr>\n",
       "    <tr>\n",
       "      <th>368</th>\n",
       "      <td>0.004962</td>\n",
       "      <td>0.011112</td>\n",
       "      <td>0.010118</td>\n",
       "      <td>0.016702</td>\n",
       "      <td>0.009780</td>\n",
       "      <td>0.004268</td>\n",
       "      <td>0.010950</td>\n",
       "      <td>0.012188</td>\n",
       "      <td>0.011452</td>\n",
       "      <td>0.006239</td>\n",
       "      <td>...</td>\n",
       "      <td>0.000000</td>\n",
       "      <td>0.000000</td>\n",
       "      <td>0.000000</td>\n",
       "      <td>0.000000</td>\n",
       "      <td>0.000000</td>\n",
       "      <td>0.000000</td>\n",
       "      <td>0.000000</td>\n",
       "      <td>0.000000</td>\n",
       "      <td>0.000000</td>\n",
       "      <td>0.000000</td>\n",
       "    </tr>\n",
       "    <tr>\n",
       "      <th>388</th>\n",
       "      <td>0.005811</td>\n",
       "      <td>0.013013</td>\n",
       "      <td>0.011849</td>\n",
       "      <td>0.009780</td>\n",
       "      <td>0.022908</td>\n",
       "      <td>0.004998</td>\n",
       "      <td>0.012824</td>\n",
       "      <td>0.014274</td>\n",
       "      <td>0.013412</td>\n",
       "      <td>0.007307</td>\n",
       "      <td>...</td>\n",
       "      <td>0.000000</td>\n",
       "      <td>0.000000</td>\n",
       "      <td>0.000000</td>\n",
       "      <td>0.000000</td>\n",
       "      <td>0.000000</td>\n",
       "      <td>0.000000</td>\n",
       "      <td>0.000000</td>\n",
       "      <td>0.000000</td>\n",
       "      <td>0.000000</td>\n",
       "      <td>0.000000</td>\n",
       "    </tr>\n",
       "    <tr>\n",
       "      <th>...</th>\n",
       "      <td>...</td>\n",
       "      <td>...</td>\n",
       "      <td>...</td>\n",
       "      <td>...</td>\n",
       "      <td>...</td>\n",
       "      <td>...</td>\n",
       "      <td>...</td>\n",
       "      <td>...</td>\n",
       "      <td>...</td>\n",
       "      <td>...</td>\n",
       "      <td>...</td>\n",
       "      <td>...</td>\n",
       "      <td>...</td>\n",
       "      <td>...</td>\n",
       "      <td>...</td>\n",
       "      <td>...</td>\n",
       "      <td>...</td>\n",
       "      <td>...</td>\n",
       "      <td>...</td>\n",
       "      <td>...</td>\n",
       "      <td>...</td>\n",
       "    </tr>\n",
       "    <tr>\n",
       "      <th>338</th>\n",
       "      <td>0.000000</td>\n",
       "      <td>0.000000</td>\n",
       "      <td>0.000000</td>\n",
       "      <td>0.000000</td>\n",
       "      <td>0.000000</td>\n",
       "      <td>0.000000</td>\n",
       "      <td>0.000000</td>\n",
       "      <td>0.000000</td>\n",
       "      <td>0.000000</td>\n",
       "      <td>0.000000</td>\n",
       "      <td>...</td>\n",
       "      <td>0.003591</td>\n",
       "      <td>0.010276</td>\n",
       "      <td>0.010404</td>\n",
       "      <td>0.004434</td>\n",
       "      <td>0.006328</td>\n",
       "      <td>0.011366</td>\n",
       "      <td>0.005862</td>\n",
       "      <td>0.010529</td>\n",
       "      <td>0.006232</td>\n",
       "      <td>0.010048</td>\n",
       "    </tr>\n",
       "    <tr>\n",
       "      <th>315</th>\n",
       "      <td>0.000000</td>\n",
       "      <td>0.000000</td>\n",
       "      <td>0.000000</td>\n",
       "      <td>0.000000</td>\n",
       "      <td>0.000000</td>\n",
       "      <td>0.000000</td>\n",
       "      <td>0.000000</td>\n",
       "      <td>0.000000</td>\n",
       "      <td>0.000000</td>\n",
       "      <td>0.000000</td>\n",
       "      <td>...</td>\n",
       "      <td>0.003705</td>\n",
       "      <td>0.010600</td>\n",
       "      <td>0.010731</td>\n",
       "      <td>0.004573</td>\n",
       "      <td>0.006528</td>\n",
       "      <td>0.005862</td>\n",
       "      <td>0.012093</td>\n",
       "      <td>0.010860</td>\n",
       "      <td>0.006429</td>\n",
       "      <td>0.010364</td>\n",
       "    </tr>\n",
       "    <tr>\n",
       "      <th>313</th>\n",
       "      <td>0.000000</td>\n",
       "      <td>0.000000</td>\n",
       "      <td>0.000000</td>\n",
       "      <td>0.000000</td>\n",
       "      <td>0.000000</td>\n",
       "      <td>0.000000</td>\n",
       "      <td>0.000000</td>\n",
       "      <td>0.000000</td>\n",
       "      <td>0.000000</td>\n",
       "      <td>0.000000</td>\n",
       "      <td>...</td>\n",
       "      <td>0.006654</td>\n",
       "      <td>0.019038</td>\n",
       "      <td>0.019274</td>\n",
       "      <td>0.008214</td>\n",
       "      <td>0.011725</td>\n",
       "      <td>0.010529</td>\n",
       "      <td>0.010860</td>\n",
       "      <td>0.039012</td>\n",
       "      <td>0.011547</td>\n",
       "      <td>0.018615</td>\n",
       "    </tr>\n",
       "    <tr>\n",
       "      <th>302</th>\n",
       "      <td>0.000000</td>\n",
       "      <td>0.000000</td>\n",
       "      <td>0.000000</td>\n",
       "      <td>0.000000</td>\n",
       "      <td>0.000000</td>\n",
       "      <td>0.000000</td>\n",
       "      <td>0.000000</td>\n",
       "      <td>0.000000</td>\n",
       "      <td>0.000000</td>\n",
       "      <td>0.000000</td>\n",
       "      <td>...</td>\n",
       "      <td>0.003939</td>\n",
       "      <td>0.011270</td>\n",
       "      <td>0.011410</td>\n",
       "      <td>0.004862</td>\n",
       "      <td>0.006940</td>\n",
       "      <td>0.006232</td>\n",
       "      <td>0.006429</td>\n",
       "      <td>0.011547</td>\n",
       "      <td>0.013670</td>\n",
       "      <td>0.011020</td>\n",
       "    </tr>\n",
       "    <tr>\n",
       "      <th>310</th>\n",
       "      <td>0.000000</td>\n",
       "      <td>0.000000</td>\n",
       "      <td>0.000000</td>\n",
       "      <td>0.000000</td>\n",
       "      <td>0.000000</td>\n",
       "      <td>0.000000</td>\n",
       "      <td>0.000000</td>\n",
       "      <td>0.000000</td>\n",
       "      <td>0.000000</td>\n",
       "      <td>0.000000</td>\n",
       "      <td>...</td>\n",
       "      <td>0.006350</td>\n",
       "      <td>0.018169</td>\n",
       "      <td>0.018394</td>\n",
       "      <td>0.007839</td>\n",
       "      <td>0.011189</td>\n",
       "      <td>0.010048</td>\n",
       "      <td>0.010364</td>\n",
       "      <td>0.018615</td>\n",
       "      <td>0.011020</td>\n",
       "      <td>0.035531</td>\n",
       "    </tr>\n",
       "  </tbody>\n",
       "</table>\n",
       "<p>500 rows × 500 columns</p>\n",
       "</div>"
      ],
      "text/plain": [
       "          356       385       364       368       388       394       374  \\\n",
       "356  0.005896  0.006602  0.006012  0.004962  0.005811  0.002536  0.006506   \n",
       "385  0.006602  0.029570  0.013463  0.011112  0.013013  0.005679  0.014570   \n",
       "364  0.006012  0.013463  0.024517  0.010118  0.011849  0.005171  0.013267   \n",
       "368  0.004962  0.011112  0.010118  0.016702  0.009780  0.004268  0.010950   \n",
       "388  0.005811  0.013013  0.011849  0.009780  0.022908  0.004998  0.012824   \n",
       "..        ...       ...       ...       ...       ...       ...       ...   \n",
       "338  0.000000  0.000000  0.000000  0.000000  0.000000  0.000000  0.000000   \n",
       "315  0.000000  0.000000  0.000000  0.000000  0.000000  0.000000  0.000000   \n",
       "313  0.000000  0.000000  0.000000  0.000000  0.000000  0.000000  0.000000   \n",
       "302  0.000000  0.000000  0.000000  0.000000  0.000000  0.000000  0.000000   \n",
       "310  0.000000  0.000000  0.000000  0.000000  0.000000  0.000000  0.000000   \n",
       "\n",
       "          381       357       382  ...       339       322       318  \\\n",
       "356  0.007242  0.006804  0.003707  ...  0.000000  0.000000  0.000000   \n",
       "385  0.016218  0.015237  0.008302  ...  0.000000  0.000000  0.000000   \n",
       "364  0.014767  0.013875  0.007559  ...  0.000000  0.000000  0.000000   \n",
       "368  0.012188  0.011452  0.006239  ...  0.000000  0.000000  0.000000   \n",
       "388  0.014274  0.013412  0.007307  ...  0.000000  0.000000  0.000000   \n",
       "..        ...       ...       ...  ...       ...       ...       ...   \n",
       "338  0.000000  0.000000  0.000000  ...  0.003591  0.010276  0.010404   \n",
       "315  0.000000  0.000000  0.000000  ...  0.003705  0.010600  0.010731   \n",
       "313  0.000000  0.000000  0.000000  ...  0.006654  0.019038  0.019274   \n",
       "302  0.000000  0.000000  0.000000  ...  0.003939  0.011270  0.011410   \n",
       "310  0.000000  0.000000  0.000000  ...  0.006350  0.018169  0.018394   \n",
       "\n",
       "          340       311       338       315       313       302       310  \n",
       "356  0.000000  0.000000  0.000000  0.000000  0.000000  0.000000  0.000000  \n",
       "385  0.000000  0.000000  0.000000  0.000000  0.000000  0.000000  0.000000  \n",
       "364  0.000000  0.000000  0.000000  0.000000  0.000000  0.000000  0.000000  \n",
       "368  0.000000  0.000000  0.000000  0.000000  0.000000  0.000000  0.000000  \n",
       "388  0.000000  0.000000  0.000000  0.000000  0.000000  0.000000  0.000000  \n",
       "..        ...       ...       ...       ...       ...       ...       ...  \n",
       "338  0.004434  0.006328  0.011366  0.005862  0.010529  0.006232  0.010048  \n",
       "315  0.004573  0.006528  0.005862  0.012093  0.010860  0.006429  0.010364  \n",
       "313  0.008214  0.011725  0.010529  0.010860  0.039012  0.011547  0.018615  \n",
       "302  0.004862  0.006940  0.006232  0.006429  0.011547  0.013670  0.011020  \n",
       "310  0.007839  0.011189  0.010048  0.010364  0.018615  0.011020  0.035531  \n",
       "\n",
       "[500 rows x 500 columns]"
      ]
     },
     "execution_count": 44,
     "metadata": {},
     "output_type": "execute_result"
    }
   ],
   "source": [
    "optimal_clustering_model.reordered_X"
   ]
  },
  {
   "cell_type": "code",
   "execution_count": 45,
   "id": "cd115e90-dbbd-4b00-ab9e-686bd135e074",
   "metadata": {},
   "outputs": [
    {
     "data": {
      "text/plain": [
       "<Axes: >"
      ]
     },
     "execution_count": 45,
     "metadata": {},
     "output_type": "execute_result"
    },
    {
     "data": {
      "image/png": "[encoded data removed]",
      "text/plain": [
       "<Figure size 640x480 with 2 Axes>"
      ]
     },
     "metadata": {},
     "output_type": "display_data"
    }
   ],
   "source": [
    "\n",
    "sns.heatmap(optimal_clustering_model.reordered_X)#,cmap='viridis')"
   ]
  },
  {
   "cell_type": "markdown",
   "id": "e41ad152-9ead-4e71-bf15-02b2de09e780",
   "metadata": {},
   "source": [
    "### Intracluster weights"
   ]
  },
  {
   "cell_type": "markdown",
   "id": "7436977e-eacd-4b8f-a03a-6ec998baff79",
   "metadata": {},
   "source": [
    "The second step of the NCO algorithm is to compute optimal intracluster allocations, using the denoised covariance matrix, `true_covariance_cleansed`. \n",
    "\n",
    "The code in this section implements this procedure. \n",
    "\n",
    "For simplicity purposes, we have defaulted to a minimum variance allocation, as implemented in the `get_minimum_variance_portfolio_weights` function. \n",
    "\n",
    "However, nothing in the procedure prevents the use of alternative allocation methods. \n",
    "\n",
    "Using the estimated intracluster weights, we can derive the reduced covariance matrix, `reduced_covariance_matrix`, which reports the correlations between clusters."
   ]
  },
  {
   "cell_type": "code",
   "execution_count": null,
   "id": "d3559bfc-c3f6-4df9-8376-32d5e78330b4",
   "metadata": {},
   "outputs": [],
   "source": []
  },
  {
   "cell_type": "code",
   "execution_count": null,
   "id": "7cafb58f-2ca1-4efe-b2a5-e8dd071dfa67",
   "metadata": {},
   "outputs": [],
   "source": []
  },
  {
   "cell_type": "code",
   "execution_count": 46,
   "id": "65b27f45-3562-4ab6-a8d6-5d965d427d15",
   "metadata": {},
   "outputs": [
    {
     "data": {
      "text/plain": [
       "dict_keys([0, 1, 2, 3, 4, 5, 6, 7, 8, 9])"
      ]
     },
     "execution_count": 46,
     "metadata": {},
     "output_type": "execute_result"
    }
   ],
   "source": [
    "optimal_clustering_model.clusters.keys()\n",
    "    \n",
    "    \n",
    "    "
   ]
  },
  {
   "cell_type": "code",
   "execution_count": 47,
   "id": "fd5907d2-6e00-4b43-b347-8cb01a7d8851",
   "metadata": {},
   "outputs": [],
   "source": [
    "intracluster_weights =pd.DataFrame(0,index=true_covariance_cleansed.index,columns=optimal_clustering_model.clusters.keys())"
   ]
  },
  {
   "cell_type": "code",
   "execution_count": 48,
   "id": "bf86700f-41ec-4bfd-bfd0-59dccf8aef18",
   "metadata": {},
   "outputs": [],
   "source": [
    "for i in optimal_clustering_model.clusters:\n",
    "    _cov_matrix = true_correlation_cleansed.loc[optimal_clustering_model.clusters[i], optimal_clustering_model.clusters[i]] \n",
    "    _pt_weights = get_minimum_variance_portfolio_weights(_cov_matrix)\n",
    "    intracluster_weights.loc[optimal_clustering_model.clusters[i],i]=_pt_weights"
   ]
  },
  {
   "cell_type": "code",
   "execution_count": 49,
   "id": "d5b1c955-3fef-4e30-af8d-6826f55a38fb",
   "metadata": {},
   "outputs": [
    {
     "data": {
      "text/html": [
       "<div>\n",
       "<style scoped>\n",
       "    .dataframe tbody tr th:only-of-type {\n",
       "        vertical-align: middle;\n",
       "    }\n",
       "\n",
       "    .dataframe tbody tr th {\n",
       "        vertical-align: top;\n",
       "    }\n",
       "\n",
       "    .dataframe thead th {\n",
       "        text-align: right;\n",
       "    }\n",
       "</style>\n",
       "<table border=\"1\" class=\"dataframe\">\n",
       "  <thead>\n",
       "    <tr style=\"text-align: right;\">\n",
       "      <th></th>\n",
       "      <th>0</th>\n",
       "      <th>1</th>\n",
       "      <th>2</th>\n",
       "      <th>3</th>\n",
       "      <th>4</th>\n",
       "      <th>5</th>\n",
       "      <th>6</th>\n",
       "      <th>7</th>\n",
       "      <th>8</th>\n",
       "      <th>9</th>\n",
       "    </tr>\n",
       "  </thead>\n",
       "  <tbody>\n",
       "    <tr>\n",
       "      <th>90</th>\n",
       "      <td>0.0</td>\n",
       "      <td>0.00</td>\n",
       "      <td>0.00</td>\n",
       "      <td>0.00</td>\n",
       "      <td>0.00</td>\n",
       "      <td>0.0</td>\n",
       "      <td>0.00</td>\n",
       "      <td>0.00</td>\n",
       "      <td>0.02</td>\n",
       "      <td>0.00</td>\n",
       "    </tr>\n",
       "    <tr>\n",
       "      <th>254</th>\n",
       "      <td>0.0</td>\n",
       "      <td>0.00</td>\n",
       "      <td>0.00</td>\n",
       "      <td>0.00</td>\n",
       "      <td>0.00</td>\n",
       "      <td>0.0</td>\n",
       "      <td>0.02</td>\n",
       "      <td>0.00</td>\n",
       "      <td>0.00</td>\n",
       "      <td>0.00</td>\n",
       "    </tr>\n",
       "    <tr>\n",
       "      <th>283</th>\n",
       "      <td>0.0</td>\n",
       "      <td>0.00</td>\n",
       "      <td>0.00</td>\n",
       "      <td>0.00</td>\n",
       "      <td>0.00</td>\n",
       "      <td>0.0</td>\n",
       "      <td>0.02</td>\n",
       "      <td>0.00</td>\n",
       "      <td>0.00</td>\n",
       "      <td>0.00</td>\n",
       "    </tr>\n",
       "    <tr>\n",
       "      <th>445</th>\n",
       "      <td>0.0</td>\n",
       "      <td>0.00</td>\n",
       "      <td>0.00</td>\n",
       "      <td>0.00</td>\n",
       "      <td>0.00</td>\n",
       "      <td>0.0</td>\n",
       "      <td>0.00</td>\n",
       "      <td>0.02</td>\n",
       "      <td>0.00</td>\n",
       "      <td>0.00</td>\n",
       "    </tr>\n",
       "    <tr>\n",
       "      <th>461</th>\n",
       "      <td>0.0</td>\n",
       "      <td>0.00</td>\n",
       "      <td>0.00</td>\n",
       "      <td>0.02</td>\n",
       "      <td>0.00</td>\n",
       "      <td>0.0</td>\n",
       "      <td>0.00</td>\n",
       "      <td>0.00</td>\n",
       "      <td>0.00</td>\n",
       "      <td>0.00</td>\n",
       "    </tr>\n",
       "    <tr>\n",
       "      <th>...</th>\n",
       "      <td>...</td>\n",
       "      <td>...</td>\n",
       "      <td>...</td>\n",
       "      <td>...</td>\n",
       "      <td>...</td>\n",
       "      <td>...</td>\n",
       "      <td>...</td>\n",
       "      <td>...</td>\n",
       "      <td>...</td>\n",
       "      <td>...</td>\n",
       "    </tr>\n",
       "    <tr>\n",
       "      <th>323</th>\n",
       "      <td>0.0</td>\n",
       "      <td>0.00</td>\n",
       "      <td>0.00</td>\n",
       "      <td>0.00</td>\n",
       "      <td>0.00</td>\n",
       "      <td>0.0</td>\n",
       "      <td>0.00</td>\n",
       "      <td>0.00</td>\n",
       "      <td>0.00</td>\n",
       "      <td>0.02</td>\n",
       "    </tr>\n",
       "    <tr>\n",
       "      <th>192</th>\n",
       "      <td>0.0</td>\n",
       "      <td>0.02</td>\n",
       "      <td>0.00</td>\n",
       "      <td>0.00</td>\n",
       "      <td>0.00</td>\n",
       "      <td>0.0</td>\n",
       "      <td>0.00</td>\n",
       "      <td>0.00</td>\n",
       "      <td>0.00</td>\n",
       "      <td>0.00</td>\n",
       "    </tr>\n",
       "    <tr>\n",
       "      <th>117</th>\n",
       "      <td>0.0</td>\n",
       "      <td>0.00</td>\n",
       "      <td>0.02</td>\n",
       "      <td>0.00</td>\n",
       "      <td>0.00</td>\n",
       "      <td>0.0</td>\n",
       "      <td>0.00</td>\n",
       "      <td>0.00</td>\n",
       "      <td>0.00</td>\n",
       "      <td>0.00</td>\n",
       "    </tr>\n",
       "    <tr>\n",
       "      <th>47</th>\n",
       "      <td>0.0</td>\n",
       "      <td>0.00</td>\n",
       "      <td>0.00</td>\n",
       "      <td>0.00</td>\n",
       "      <td>0.02</td>\n",
       "      <td>0.0</td>\n",
       "      <td>0.00</td>\n",
       "      <td>0.00</td>\n",
       "      <td>0.00</td>\n",
       "      <td>0.00</td>\n",
       "    </tr>\n",
       "    <tr>\n",
       "      <th>172</th>\n",
       "      <td>0.0</td>\n",
       "      <td>0.02</td>\n",
       "      <td>0.00</td>\n",
       "      <td>0.00</td>\n",
       "      <td>0.00</td>\n",
       "      <td>0.0</td>\n",
       "      <td>0.00</td>\n",
       "      <td>0.00</td>\n",
       "      <td>0.00</td>\n",
       "      <td>0.00</td>\n",
       "    </tr>\n",
       "  </tbody>\n",
       "</table>\n",
       "<p>500 rows × 10 columns</p>\n",
       "</div>"
      ],
      "text/plain": [
       "       0     1     2     3     4    5     6     7     8     9\n",
       "90   0.0  0.00  0.00  0.00  0.00  0.0  0.00  0.00  0.02  0.00\n",
       "254  0.0  0.00  0.00  0.00  0.00  0.0  0.02  0.00  0.00  0.00\n",
       "283  0.0  0.00  0.00  0.00  0.00  0.0  0.02  0.00  0.00  0.00\n",
       "445  0.0  0.00  0.00  0.00  0.00  0.0  0.00  0.02  0.00  0.00\n",
       "461  0.0  0.00  0.00  0.02  0.00  0.0  0.00  0.00  0.00  0.00\n",
       "..   ...   ...   ...   ...   ...  ...   ...   ...   ...   ...\n",
       "323  0.0  0.00  0.00  0.00  0.00  0.0  0.00  0.00  0.00  0.02\n",
       "192  0.0  0.02  0.00  0.00  0.00  0.0  0.00  0.00  0.00  0.00\n",
       "117  0.0  0.00  0.02  0.00  0.00  0.0  0.00  0.00  0.00  0.00\n",
       "47   0.0  0.00  0.00  0.00  0.02  0.0  0.00  0.00  0.00  0.00\n",
       "172  0.0  0.02  0.00  0.00  0.00  0.0  0.00  0.00  0.00  0.00\n",
       "\n",
       "[500 rows x 10 columns]"
      ]
     },
     "execution_count": 49,
     "metadata": {},
     "output_type": "execute_result"
    }
   ],
   "source": [
    "intracluster_weights"
   ]
  },
  {
   "cell_type": "code",
   "execution_count": 50,
   "id": "87afc83b-b3ae-429c-9da3-b78adb7c22d5",
   "metadata": {},
   "outputs": [],
   "source": [
    "# reduced covariance matrix, reports the correlation between clusters \n",
    "reduced_covariance_matrix=intracluster_weights.T.dot(np.dot(true_covariance_cleansed,intracluster_weights)) "
   ]
  },
  {
   "cell_type": "code",
   "execution_count": 51,
   "id": "e01525fc-0999-42e8-8b2d-5bc90a048650",
   "metadata": {},
   "outputs": [
    {
     "data": {
      "text/html": [
       "<div>\n",
       "<style scoped>\n",
       "    .dataframe tbody tr th:only-of-type {\n",
       "        vertical-align: middle;\n",
       "    }\n",
       "\n",
       "    .dataframe tbody tr th {\n",
       "        vertical-align: top;\n",
       "    }\n",
       "\n",
       "    .dataframe thead th {\n",
       "        text-align: right;\n",
       "    }\n",
       "</style>\n",
       "<table border=\"1\" class=\"dataframe\">\n",
       "  <thead>\n",
       "    <tr style=\"text-align: right;\">\n",
       "      <th></th>\n",
       "      <th>0</th>\n",
       "      <th>1</th>\n",
       "      <th>2</th>\n",
       "      <th>3</th>\n",
       "      <th>4</th>\n",
       "      <th>5</th>\n",
       "      <th>6</th>\n",
       "      <th>7</th>\n",
       "      <th>8</th>\n",
       "      <th>9</th>\n",
       "    </tr>\n",
       "  </thead>\n",
       "  <tbody>\n",
       "    <tr>\n",
       "      <th>0</th>\n",
       "      <td>2.000000e-02</td>\n",
       "      <td>-9.616407e-19</td>\n",
       "      <td>-3.326664e-20</td>\n",
       "      <td>-2.967694e-19</td>\n",
       "      <td>5.222608e-19</td>\n",
       "      <td>-7.762330e-19</td>\n",
       "      <td>-6.474033e-19</td>\n",
       "      <td>2.538525e-19</td>\n",
       "      <td>6.193151e-19</td>\n",
       "      <td>-3.737579e-19</td>\n",
       "    </tr>\n",
       "    <tr>\n",
       "      <th>1</th>\n",
       "      <td>-9.616407e-19</td>\n",
       "      <td>2.000000e-02</td>\n",
       "      <td>-1.457563e-20</td>\n",
       "      <td>1.952216e-19</td>\n",
       "      <td>1.485388e-19</td>\n",
       "      <td>3.944481e-18</td>\n",
       "      <td>-2.105939e-19</td>\n",
       "      <td>5.217648e-19</td>\n",
       "      <td>-2.335008e-19</td>\n",
       "      <td>4.826531e-19</td>\n",
       "    </tr>\n",
       "    <tr>\n",
       "      <th>2</th>\n",
       "      <td>-3.326664e-20</td>\n",
       "      <td>-1.457563e-20</td>\n",
       "      <td>2.000000e-02</td>\n",
       "      <td>1.612189e-19</td>\n",
       "      <td>1.038951e-19</td>\n",
       "      <td>1.951659e-19</td>\n",
       "      <td>9.937114e-20</td>\n",
       "      <td>6.336390e-19</td>\n",
       "      <td>3.088822e-19</td>\n",
       "      <td>-8.173413e-19</td>\n",
       "    </tr>\n",
       "    <tr>\n",
       "      <th>3</th>\n",
       "      <td>-2.967694e-19</td>\n",
       "      <td>1.952216e-19</td>\n",
       "      <td>1.612189e-19</td>\n",
       "      <td>2.000000e-02</td>\n",
       "      <td>4.949790e-19</td>\n",
       "      <td>9.989376e-21</td>\n",
       "      <td>-2.108547e-19</td>\n",
       "      <td>4.049304e-18</td>\n",
       "      <td>-6.254434e-19</td>\n",
       "      <td>4.727301e-20</td>\n",
       "    </tr>\n",
       "    <tr>\n",
       "      <th>4</th>\n",
       "      <td>5.222608e-19</td>\n",
       "      <td>1.485388e-19</td>\n",
       "      <td>1.038951e-19</td>\n",
       "      <td>4.949790e-19</td>\n",
       "      <td>2.000000e-02</td>\n",
       "      <td>-2.505973e-19</td>\n",
       "      <td>-1.282895e-19</td>\n",
       "      <td>-9.933985e-20</td>\n",
       "      <td>-3.832456e-20</td>\n",
       "      <td>-1.178473e-17</td>\n",
       "    </tr>\n",
       "    <tr>\n",
       "      <th>5</th>\n",
       "      <td>-7.762330e-19</td>\n",
       "      <td>3.944481e-18</td>\n",
       "      <td>1.951659e-19</td>\n",
       "      <td>9.989376e-21</td>\n",
       "      <td>-2.505973e-19</td>\n",
       "      <td>2.000000e-02</td>\n",
       "      <td>-2.885788e-19</td>\n",
       "      <td>1.497063e-20</td>\n",
       "      <td>-3.101168e-19</td>\n",
       "      <td>2.645378e-19</td>\n",
       "    </tr>\n",
       "    <tr>\n",
       "      <th>6</th>\n",
       "      <td>-6.474033e-19</td>\n",
       "      <td>-2.105939e-19</td>\n",
       "      <td>9.937114e-20</td>\n",
       "      <td>-2.108547e-19</td>\n",
       "      <td>-1.282895e-19</td>\n",
       "      <td>-2.885788e-19</td>\n",
       "      <td>2.000000e-02</td>\n",
       "      <td>7.517619e-19</td>\n",
       "      <td>-2.350274e-20</td>\n",
       "      <td>4.489088e-19</td>\n",
       "    </tr>\n",
       "    <tr>\n",
       "      <th>7</th>\n",
       "      <td>2.538525e-19</td>\n",
       "      <td>5.217648e-19</td>\n",
       "      <td>6.336390e-19</td>\n",
       "      <td>4.049304e-18</td>\n",
       "      <td>-9.933985e-20</td>\n",
       "      <td>1.497063e-20</td>\n",
       "      <td>7.517619e-19</td>\n",
       "      <td>2.000000e-02</td>\n",
       "      <td>5.218579e-19</td>\n",
       "      <td>3.822780e-19</td>\n",
       "    </tr>\n",
       "    <tr>\n",
       "      <th>8</th>\n",
       "      <td>6.193151e-19</td>\n",
       "      <td>-2.335008e-19</td>\n",
       "      <td>3.088822e-19</td>\n",
       "      <td>-6.254434e-19</td>\n",
       "      <td>-3.832456e-20</td>\n",
       "      <td>-3.101168e-19</td>\n",
       "      <td>-2.350274e-20</td>\n",
       "      <td>5.218579e-19</td>\n",
       "      <td>2.000000e-02</td>\n",
       "      <td>4.432675e-19</td>\n",
       "    </tr>\n",
       "    <tr>\n",
       "      <th>9</th>\n",
       "      <td>-3.737579e-19</td>\n",
       "      <td>4.826531e-19</td>\n",
       "      <td>-8.173413e-19</td>\n",
       "      <td>4.727301e-20</td>\n",
       "      <td>-1.178473e-17</td>\n",
       "      <td>2.645378e-19</td>\n",
       "      <td>4.489088e-19</td>\n",
       "      <td>3.822780e-19</td>\n",
       "      <td>4.432675e-19</td>\n",
       "      <td>2.000000e-02</td>\n",
       "    </tr>\n",
       "  </tbody>\n",
       "</table>\n",
       "</div>"
      ],
      "text/plain": [
       "              0             1             2             3             4  \\\n",
       "0  2.000000e-02 -9.616407e-19 -3.326664e-20 -2.967694e-19  5.222608e-19   \n",
       "1 -9.616407e-19  2.000000e-02 -1.457563e-20  1.952216e-19  1.485388e-19   \n",
       "2 -3.326664e-20 -1.457563e-20  2.000000e-02  1.612189e-19  1.038951e-19   \n",
       "3 -2.967694e-19  1.952216e-19  1.612189e-19  2.000000e-02  4.949790e-19   \n",
       "4  5.222608e-19  1.485388e-19  1.038951e-19  4.949790e-19  2.000000e-02   \n",
       "5 -7.762330e-19  3.944481e-18  1.951659e-19  9.989376e-21 -2.505973e-19   \n",
       "6 -6.474033e-19 -2.105939e-19  9.937114e-20 -2.108547e-19 -1.282895e-19   \n",
       "7  2.538525e-19  5.217648e-19  6.336390e-19  4.049304e-18 -9.933985e-20   \n",
       "8  6.193151e-19 -2.335008e-19  3.088822e-19 -6.254434e-19 -3.832456e-20   \n",
       "9 -3.737579e-19  4.826531e-19 -8.173413e-19  4.727301e-20 -1.178473e-17   \n",
       "\n",
       "              5             6             7             8             9  \n",
       "0 -7.762330e-19 -6.474033e-19  2.538525e-19  6.193151e-19 -3.737579e-19  \n",
       "1  3.944481e-18 -2.105939e-19  5.217648e-19 -2.335008e-19  4.826531e-19  \n",
       "2  1.951659e-19  9.937114e-20  6.336390e-19  3.088822e-19 -8.173413e-19  \n",
       "3  9.989376e-21 -2.108547e-19  4.049304e-18 -6.254434e-19  4.727301e-20  \n",
       "4 -2.505973e-19 -1.282895e-19 -9.933985e-20 -3.832456e-20 -1.178473e-17  \n",
       "5  2.000000e-02 -2.885788e-19  1.497063e-20 -3.101168e-19  2.645378e-19  \n",
       "6 -2.885788e-19  2.000000e-02  7.517619e-19 -2.350274e-20  4.489088e-19  \n",
       "7  1.497063e-20  7.517619e-19  2.000000e-02  5.218579e-19  3.822780e-19  \n",
       "8 -3.101168e-19 -2.350274e-20  5.218579e-19  2.000000e-02  4.432675e-19  \n",
       "9  2.645378e-19  4.489088e-19  3.822780e-19  4.432675e-19  2.000000e-02  "
      ]
     },
     "execution_count": 51,
     "metadata": {},
     "output_type": "execute_result"
    }
   ],
   "source": [
    "reduced_covariance_matrix"
   ]
  },
  {
   "cell_type": "markdown",
   "id": "518c0add-12d9-4a88-a6f9-1ae31a32d072",
   "metadata": {},
   "source": [
    "### Intercluster Weights"
   ]
  },
  {
   "cell_type": "markdown",
   "id": "9ccf9457-8ae0-48d9-923b-10653e2ab19c",
   "metadata": {},
   "source": [
    "\n",
    "The third step of the NCO algorithm is to compute optimal intercluster allocations, using the reduced covariance matrix, `reduced_covariance_matrix`. \n",
    "\n",
    "By construction, this covariance matrix is close to a diagonal matrix, and the optimization problem is close to the ideal Markowitz case. \n",
    "\n",
    "In other words, the clustering and intracluster optimization steps have allowed us to transform a \"Markowitz-cursed\" problem ($\\mid\\rho \\mid >> 0 $) into a well-behaved problem ($\\rho \\approx 0$)."
   ]
  },
  {
   "cell_type": "markdown",
   "id": "a9b681cd-65f8-45db-80e8-c64d0acae5a2",
   "metadata": {},
   "source": [
    "The code in the below implements this procedure. \n",
    "\n",
    "It applies the same allocation procedure that was used in the intracluster allocation step (that is, the `get_minimum_variance_portfolio_weights` function). \n",
    "\n",
    "The final allocation per security is reported by the wAll0 data frame, which results from multiplying intracluster weights with the intercluster weights."
   ]
  },
  {
   "cell_type": "code",
   "execution_count": 52,
   "id": "acb67e33-b807-4205-89b5-f419256058b2",
   "metadata": {},
   "outputs": [],
   "source": [
    "\n",
    "intercluster_weights=pd.Series(get_minimum_variance_portfolio_weights(reduced_covariance_matrix).flatten(),\n",
    "                         index=reduced_covariance_matrix.index) \n",
    "\n",
    "final_portfolio_weights=intracluster_weights.mul(intercluster_weights,axis=1).sum(axis=1).sort_index()"
   ]
  },
  {
   "cell_type": "code",
   "execution_count": 53,
   "id": "36546204-a6f4-429e-8b56-555f2c3716b8",
   "metadata": {},
   "outputs": [
    {
     "data": {
      "text/plain": [
       "(500,)"
      ]
     },
     "execution_count": 53,
     "metadata": {},
     "output_type": "execute_result"
    }
   ],
   "source": [
    "final_portfolio_weights.shape"
   ]
  },
  {
   "cell_type": "code",
   "execution_count": 54,
   "id": "71c42735-ad80-47ec-ac9c-e38971c30080",
   "metadata": {},
   "outputs": [
    {
     "data": {
      "text/plain": [
       "count    5.000000e+02\n",
       "mean     2.000000e-03\n",
       "std      2.893696e-18\n",
       "min      2.000000e-03\n",
       "25%      2.000000e-03\n",
       "50%      2.000000e-03\n",
       "75%      2.000000e-03\n",
       "max      2.000000e-03\n",
       "dtype: float64"
      ]
     },
     "execution_count": 54,
     "metadata": {},
     "output_type": "execute_result"
    }
   ],
   "source": [
    "final_portfolio_weights.describe()"
   ]
  },
  {
   "cell_type": "markdown",
   "id": "3fcbd2c3-13db-490c-b111-a8cfcdfd9c2e",
   "metadata": {},
   "source": [
    "### NCO Algorithm"
   ]
  },
  {
   "cell_type": "code",
   "execution_count": null,
   "id": "a1284107-e8ba-4433-9d7f-e7476998c498",
   "metadata": {},
   "outputs": [],
   "source": []
  },
  {
   "cell_type": "code",
   "execution_count": null,
   "id": "5c723156-7012-4c3a-9f49-e2d56970a745",
   "metadata": {},
   "outputs": [],
   "source": []
  },
  {
   "cell_type": "code",
   "execution_count": null,
   "id": "f2063ba0-658f-46fc-a5ac-a95bf53a8a0b",
   "metadata": {},
   "outputs": [],
   "source": []
  },
  {
   "cell_type": "markdown",
   "id": "f00c5dc8-c2d5-4fb6-953f-187491491097",
   "metadata": {},
   "source": [
    "## Experimental results "
   ]
  },
  {
   "cell_type": "markdown",
   "id": "3b624af1-87cf-4e0a-bce5-0b601869a160",
   "metadata": {},
   "source": [
    "In this section we subject the NCO algorithm to controlled experiments, and compare its performance to Markowitz’s approach. \n",
    "\n",
    "Like in the Denoising-Detoning chapter, we discuss two characteristic portfolios of the efficient frontier, namely:\n",
    "- the minimum variance and \n",
    "- maximum Sharpe ratio solutions, \n",
    "since any member of the unconstrained efficient frontier can be derived as a convex combination of the two (a result sometimes known as the \"separation theorem\").\n",
    "\n",
    "Code Snippet 7.6 implements the NCO algorithm introduced earlier in this section. \n",
    "\n"
   ]
  },
  {
   "cell_type": "code",
   "execution_count": null,
   "id": "447b4dac-3bef-4aa8-8ac8-c3206c5fc160",
   "metadata": {},
   "outputs": [],
   "source": []
  },
  {
   "cell_type": "markdown",
   "id": "f52183de-4791-4f9f-b245-63145d62dc8e",
   "metadata": {},
   "source": [
    "### Minimum variance portfolio "
   ]
  },
  {
   "cell_type": "markdown",
   "id": "37f56cff-56e4-4e19-a965-12996ba23d06",
   "metadata": {},
   "source": [
    "We create:\n",
    "- a random vector of means and \n",
    "- a random covariance matrix \n",
    "that represent a stylized version of a fifty securities portfolio, grouped in ten blocks with intracluster correlations of 0.5. \n",
    "\n",
    "This vector and matrix characterize the \"true\" process that generates observations.\n",
    "\n",
    "We set a seed for the purpose of reproducing and comparing results across runs with different parameters. \n",
    "\n"
   ]
  },
  {
   "cell_type": "code",
   "execution_count": 55,
   "id": "b78440a1-3a28-47d6-b527-5aaad6b2d02e",
   "metadata": {},
   "outputs": [],
   "source": [
    "number_blocks, block_size, block_correlation = 10,50, 0.5\n",
    "np.random.seed(0)\n",
    "true_mu,true_covariance=build_true_matrix(number_blocks = number_blocks,\n",
    "                                              block_size = block_size ,\n",
    "                                              block_correlation = block_correlation)\n"
   ]
  },
  {
   "cell_type": "code",
   "execution_count": 56,
   "id": "51c08f9b-a534-48ff-bf84-91d4b681f0ff",
   "metadata": {},
   "outputs": [],
   "source": [
    "true_covariance.reset_index(drop=True, inplace=True)\n",
    "true_covariance.columns = sorted(true_covariance.columns.tolist())"
   ]
  },
  {
   "cell_type": "code",
   "execution_count": null,
   "id": "a1711eb1-ebdb-454d-b435-2253d1cbbe01",
   "metadata": {},
   "outputs": [],
   "source": []
  },
  {
   "cell_type": "code",
   "execution_count": 57,
   "id": "b45d6746-bec5-4f8b-8d3e-437259688692",
   "metadata": {},
   "outputs": [
    {
     "data": {
      "text/plain": [
       "<Axes: >"
      ]
     },
     "execution_count": 57,
     "metadata": {},
     "output_type": "execute_result"
    },
    {
     "data": {
      "image/png": "[encoded data removed]",
      "text/plain": [
       "<Figure size 640x480 with 2 Axes>"
      ]
     },
     "metadata": {},
     "output_type": "display_data"
    }
   ],
   "source": [
    "sns.heatmap(true_covariance,cmap='viridis')"
   ]
  },
  {
   "cell_type": "markdown",
   "id": "86c84cfa-a7d1-431c-8a0d-912bc95a02ab",
   "metadata": {},
   "source": [
    "Then we simulate a random empirical vector of means and a random empirical covariance matrix based on 1,000 observations drawn from the true process. \n",
    "\n",
    "Using that empirical covariance matrix,\n",
    "-  we can estimate the minimum variance portfolio according to Markowitz, and \n",
    "-  estimate the minimum variance portfo- lio applying the NCO algorithm. \n",
    "\n",
    "This procedure is repeated on 1,000 different random empirical covariance matrices. "
   ]
  },
  {
   "cell_type": "code",
   "execution_count": 58,
   "id": "d8cf9470-9af2-4b47-9d2c-e0a3cbaf277c",
   "metadata": {
    "tags": []
   },
   "outputs": [
    {
     "name": "stdout",
     "output_type": "stream",
     "text": [
      "Clustering using the Silhouette method\n",
      "Optimal number of clusters identified : 10\n",
      "Clustering using the Silhouette method\n",
      "Optimal number of clusters identified : 10\n"
     ]
    }
   ],
   "source": [
    "number_observations, number_simulations , shrink, min_variance_portfolio=1000,2,False, True\n",
    "np.random.seed(0)\n",
    "markowitz_weights=pd.DataFrame(columns=range(true_covariance.shape[0]),\n",
    "                                index=range(number_simulations),dtype=float) \n",
    "nco_weights=markowitz_weights.copy(deep=True)\n",
    "\n",
    "for i in range(number_simulations):\n",
    "    \n",
    "    sample_mu, sample_covariance =simulate_covariance_mean(true_mu=true_mu,\n",
    "                                                             true_covariance = true_covariance ,\n",
    "                                                             number_of_observations = number_observations,\n",
    "                                                             shrink =shrink  )\n",
    "    markowitz_weights.loc[i] = get_minimum_variance_portfolio_weights(sample_covariance).flatten()\n",
    "    nco_weights.loc[i] = nco(covariance = sample_covariance,\n",
    "                            mu = None,\n",
    "                            max_number_clusters= 10,\n",
    "                            n_jobs=20)#int(sample_covariance.shape[0]/5))#.flatten()  \n",
    "    \n"
   ]
  },
  {
   "cell_type": "code",
   "execution_count": 59,
   "id": "6cf3105d-6022-40d4-9d60-815b43d4dad0",
   "metadata": {},
   "outputs": [],
   "source": [
    "# Compute the true allocation\n",
    "true_w=get_minimum_variance_portfolio_weights(true_covariance) "
   ]
  },
  {
   "cell_type": "code",
   "execution_count": null,
   "id": "3a49dd4c-434f-4dba-a012-8961ce702632",
   "metadata": {},
   "outputs": [],
   "source": []
  },
  {
   "cell_type": "code",
   "execution_count": 60,
   "id": "9101fcac-657f-4c7d-98f1-f502bbb547fc",
   "metadata": {},
   "outputs": [],
   "source": [
    "\n",
    "true_w=np.repeat(true_w.T,markowitz_weights.shape[0],axis=0)"
   ]
  },
  {
   "cell_type": "code",
   "execution_count": 61,
   "id": "34bfe6da-0d43-4d6c-ac1b-f42e9542953a",
   "metadata": {},
   "outputs": [
    {
     "data": {
      "text/plain": [
       "(2, 500)"
      ]
     },
     "execution_count": 61,
     "metadata": {},
     "output_type": "execute_result"
    }
   ],
   "source": [
    "true_w.shape"
   ]
  },
  {
   "cell_type": "code",
   "execution_count": null,
   "id": "e428526d-0760-40b0-a185-0a6e95516615",
   "metadata": {},
   "outputs": [],
   "source": []
  },
  {
   "cell_type": "code",
   "execution_count": 62,
   "id": "7e1536de-72d2-4bc7-99cc-ffd46a853038",
   "metadata": {},
   "outputs": [
    {
     "data": {
      "text/plain": [
       "(2, 500)"
      ]
     },
     "execution_count": 62,
     "metadata": {},
     "output_type": "execute_result"
    }
   ],
   "source": [
    "markowitz_weights.shape"
   ]
  },
  {
   "cell_type": "code",
   "execution_count": 63,
   "id": "c98b3076-abed-4104-bfd4-557781cb7a5d",
   "metadata": {},
   "outputs": [
    {
     "data": {
      "text/plain": [
       "(2, 500)"
      ]
     },
     "execution_count": 63,
     "metadata": {},
     "output_type": "execute_result"
    }
   ],
   "source": [
    "nco_weights.shape"
   ]
  },
  {
   "cell_type": "code",
   "execution_count": null,
   "id": "a82d8a68-8856-4880-be1d-530c66772601",
   "metadata": {},
   "outputs": [],
   "source": []
  },
  {
   "cell_type": "code",
   "execution_count": 64,
   "id": "17c02887-fc4a-44b5-ab47-6f51c6a16511",
   "metadata": {},
   "outputs": [
    {
     "data": {
      "text/plain": [
       "0.003659748946497532"
      ]
     },
     "execution_count": 64,
     "metadata": {},
     "output_type": "execute_result"
    }
   ],
   "source": [
    "np.mean(((true_w - markowitz_weights).values.flatten()**2)**.5)"
   ]
  },
  {
   "cell_type": "code",
   "execution_count": 65,
   "id": "90c42248-1a1b-44aa-8a16-56bd20debd88",
   "metadata": {},
   "outputs": [
    {
     "data": {
      "text/plain": [
       "0.0008846679502710327"
      ]
     },
     "execution_count": 65,
     "metadata": {},
     "output_type": "execute_result"
    }
   ],
   "source": [
    "np.mean(((true_w - nco_weights).values.flatten()**2)**.5)"
   ]
  },
  {
   "cell_type": "markdown",
   "id": "44024b83-b1a4-4638-969f-75966a6ddb59",
   "metadata": {},
   "source": [
    "### Maximum Sharpe Ratio Portfolio "
   ]
  },
  {
   "cell_type": "code",
   "execution_count": 66,
   "id": "16a393f2-eace-4c48-a733-7afa3a37c37b",
   "metadata": {},
   "outputs": [
    {
     "name": "stdout",
     "output_type": "stream",
     "text": [
      "Clustering using the Silhouette method\n",
      "Optimal number of clusters identified : 10\n",
      "Clustering using the Silhouette method\n",
      "Optimal number of clusters identified : 10\n"
     ]
    }
   ],
   "source": [
    " \n",
    "maxsharpe_markowitz_weights=pd.DataFrame(columns=range(true_covariance.shape[0]),\n",
    "                                index=range(number_simulations),dtype=float) \n",
    "maxsharpe_nco_weights=markowitz_weights.copy(deep=True)\n",
    "\n",
    "for i in range(number_simulations):\n",
    "    \n",
    "    sample_mu, sample_covariance =simulate_covariance_mean(true_mu=true_mu,\n",
    "                                                             true_covariance = true_covariance ,\n",
    "                                                             number_of_observations = number_observations,\n",
    "                                                             shrink =shrink  )\n",
    "    maxsharpe_markowitz_weights.loc[i] = get_maximum_sharpe_portfolio_weights(sample_covariance, sample_mu).flatten()\n",
    "    maxsharpe_nco_weights.loc[i] = nco(covariance = sample_covariance,\n",
    "                            mu = sample_mu,\n",
    "                            max_number_clusters= 10,\n",
    "                            n_jobs=20)#int(sample_covariance.shape[0]/5))#.flatten()  \n",
    "    \n"
   ]
  },
  {
   "cell_type": "code",
   "execution_count": null,
   "id": "4244afec-3c61-4eec-b423-cb01eb9dbbab",
   "metadata": {},
   "outputs": [],
   "source": []
  },
  {
   "cell_type": "code",
   "execution_count": 67,
   "id": "1f5762ba-9528-4a3c-8240-9677f2298283",
   "metadata": {},
   "outputs": [],
   "source": [
    "# Compute the true allocation\n",
    "maxsharpe_true_w=get_maximum_sharpe_portfolio_weights(true_covariance, true_mu) "
   ]
  },
  {
   "cell_type": "code",
   "execution_count": 68,
   "id": "7d6f9790-bbcb-4ec3-99db-f163bc1710cd",
   "metadata": {},
   "outputs": [],
   "source": [
    "maxsharpe_true_w=np.repeat(maxsharpe_true_w.T,maxsharpe_markowitz_weights.shape[0],axis=0)"
   ]
  },
  {
   "cell_type": "code",
   "execution_count": null,
   "id": "ef754f1c-3cc7-47b7-b600-1be229237eec",
   "metadata": {},
   "outputs": [],
   "source": []
  },
  {
   "cell_type": "code",
   "execution_count": 69,
   "id": "561663ce-cc17-40d9-97d6-9be5bab3eafa",
   "metadata": {},
   "outputs": [
    {
     "data": {
      "text/plain": [
       "0.10808166764752344"
      ]
     },
     "execution_count": 69,
     "metadata": {},
     "output_type": "execute_result"
    }
   ],
   "source": [
    "np.mean(((maxsharpe_true_w - maxsharpe_markowitz_weights).values.flatten()**2)**.5)"
   ]
  },
  {
   "cell_type": "code",
   "execution_count": null,
   "id": "13acd59f-9bc6-4946-9ef3-9a34832801b8",
   "metadata": {},
   "outputs": [],
   "source": []
  },
  {
   "cell_type": "code",
   "execution_count": 70,
   "id": "248db90c-2ede-42ab-9f17-48dbc6b9f500",
   "metadata": {},
   "outputs": [
    {
     "data": {
      "text/plain": [
       "0.021130405457659308"
      ]
     },
     "execution_count": 70,
     "metadata": {},
     "output_type": "execute_result"
    }
   ],
   "source": [
    "np.mean(((maxsharpe_true_w - maxsharpe_nco_weights).values.flatten()**2)**.5)"
   ]
  },
  {
   "cell_type": "code",
   "execution_count": null,
   "id": "53d8ab42-2d6f-483e-9f51-167803004f70",
   "metadata": {},
   "outputs": [],
   "source": []
  }
 ],
 "metadata": {
  "kernelspec": {
   "display_name": "plutus",
   "language": "python",
   "name": "plutus"
  },
  "language_info": {
   "codemirror_mode": {
    "name": "ipython",
    "version": 3
   },
   "file_extension": ".py",
   "mimetype": "text/x-python",
   "name": "python",
   "nbconvert_exporter": "python",
   "pygments_lexer": "ipython3",
   "version": "3.10.13"
  }
 },
 "nbformat": 4,
 "nbformat_minor": 5
}
